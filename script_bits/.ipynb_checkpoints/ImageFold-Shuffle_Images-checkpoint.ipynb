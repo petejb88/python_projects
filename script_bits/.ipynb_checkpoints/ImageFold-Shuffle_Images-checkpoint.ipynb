{
 "cells": [
  {
   "cell_type": "markdown",
   "metadata": {},
   "source": [
    "Given a folder of images, creates directory of symlinks (with train/valid subfolders) to be interpreted by ImageFolder:\n",
    "\n",
    "shuffle_images():\n",
    "1. delete/make_cat_folders(): deletes old and creates new train/valid folders, with subfolders given by classes\n",
    "2. list_images_in_data(): produces a list of images which are in the dataset\n",
    "3. randomly partitions images_in_data into trian/valid\n",
    "3. for each image in images_in_data, creates symlink in opporpriate train/valid and class\n",
    "3. test(): tests that each image is in the correct class folder, counts number of train/valid images, and compares against expected"
   ]
  },
  {
   "cell_type": "code",
   "execution_count": 1,
   "metadata": {},
   "outputs": [],
   "source": [
    "def shuffle_images(data,images_path,p,column='finding'):\n",
    "    '''\n",
    "    Shuffle the images (as symbolic links) into training and validation folders.\n",
    "    \n",
    "    Inputs: \n",
    "        - p = percentage split into validation\n",
    "        - data = metadata\n",
    "        - images_path = path to images\n",
    "        - column = column of dataset to consider as classes/categories\n",
    "        \n",
    "    Warning: unless metadata is perfect (no missing image files and no missing image rows), there will be some variability in the number of validation images\n",
    "    '''\n",
    "    \n",
    "    classes = data[column].unique()\n",
    "    delete_cat_folders(images_path,['train', 'valid'])\n",
    "    make_cat_folders(images_path,['train', 'valid'], names,name_to_cat)\n",
    "    \n",
    "    images, images_in_data, data_not_in_images = list_images_in_data(data,images_path)\n",
    "    \n",
    "    valid_nums = random.sample(range(len(images)),int(len(images_in_data)*p))\n",
    "    for image in images_in_data:\n",
    "        image_data = data[data['filename']==image]\n",
    "        image_index = image_data.index[0]\n",
    "        image_column = image_data[column][image_index]\n",
    "        image_cat = name_to_cat[image_column]\n",
    "        if image_index in valid_nums:\n",
    "            os.symlink(images_path+\"/\"+image, images_path+\"/valid/\"+image_cat+\"/\"+image)\n",
    "        else:\n",
    "            os.symlink(images_path+\"/\"+image, images_path+\"/train/\"+image_cat+\"/\"+image)\n",
    "            \n",
    "    test(data,p,images_in_data,column,name_to_cat,['train','valid'])\n"
   ]
  },
  {
   "cell_type": "markdown",
   "metadata": {},
   "source": [
    "#### Utility Functions"
   ]
  },
  {
   "cell_type": "code",
   "execution_count": 2,
   "metadata": {},
   "outputs": [],
   "source": [
    "def delete_cat_folders(images_path,new_folders = ['train', 'valid']):\n",
    "    for folder in new_folders:\n",
    "        try:\n",
    "            shutil.rmtree(images_path+\"/\"+folder)\n",
    "            print(\"Folder {} deleted\".format(folder))\n",
    "        except:\n",
    "            print(\"Folder {} doesn't exist!\".format(folder))\n",
    "        \n",
    "def make_cat_folders(images_path,classes,new_folders = ['train', 'valid']):\n",
    "    for folder in new_folders:\n",
    "        try:\n",
    "            os.mkdir(images_path+\"/\"+folder)\n",
    "            print(\"Folder {} created\".format(folder))\n",
    "        except:\n",
    "            print('Folder {} already exists!'.format(folder))\n",
    "        for cls in classes:\n",
    "            try:\n",
    "                os.mkdir(images_path+\"/\"+folder+\"/\"+cls)\n",
    "                print(\"Folder {}/{} created\".format(folder,cls))\n",
    "            except:\n",
    "                print(\"Folder {}/{} already exists!\".format(folder,cls))"
   ]
  },
  {
   "cell_type": "code",
   "execution_count": 3,
   "metadata": {},
   "outputs": [],
   "source": [
    "def list_images_in_data(data,images_path):\n",
    "    images = [image for image in os.listdir(images_path) if os.path.isfile(images_path+\"/\"+image)]\n",
    "    images_not_in_data = []\n",
    "    data_not_in_images = []\n",
    "    for image in images:\n",
    "        image_data = data[data['filename']==image]\n",
    "        if len(image_data) == 0:\n",
    "            images_not_in_data.append(image)\n",
    "\n",
    "    images_in_data = [image for image in images if (image not in images_not_in_data)]\n",
    "    for filename in data['filename']:\n",
    "        if filename not in os.listdir(images_path):\n",
    "            data_not_in_images.append(filename)\n",
    "    print(\"How many in folder: {}, How many not in data: {}, How many in data: {}, How many data not in images: {}\".format(\n",
    "                len(images),\n",
    "            len(images_not_in_data),\n",
    "            len(images_in_data),\n",
    "                len(data_not_in_images)))\n",
    "    return images, images_in_data, data_not_in_images"
   ]
  },
  {
   "cell_type": "code",
   "execution_count": 4,
   "metadata": {},
   "outputs": [],
   "source": [
    "def test_folder(data,p,images_in_data,column,name_to_cat,folder):\n",
    "    count = 0\n",
    "    wrong_cat = []\n",
    "    for subfolder in os.listdir(images_path+\"/\"+folder):\n",
    "        for image in os.listdir(images_path+\"/\"+folder+\"/\"+subfolder):\n",
    "            count += 1\n",
    "            image_data = data[data['filename']==image]\n",
    "            image_index = image_data.index[0]\n",
    "            image_column = image_data[column][image_index]\n",
    "            image_cat = name_to_cat[image_column]\n",
    "            if image_cat != subfolder:\n",
    "                wrong_cat.append(image)\n",
    "    return count, wrong_cat\n",
    "\n",
    "\n",
    "def test(data,p,images_in_data,column,name_to_cat,new_folders):\n",
    "    count = []\n",
    "    wrong_cat = []\n",
    "    for i,folder in enumerate(new_folders):\n",
    "        count.append(test_folder(data,p,images_in_data,column,name_to_cat,folder)[0])\n",
    "        wrong_cat.append(test_folder(data,p,images_in_data,column,name_to_cat,folder)[1])\n",
    "\n",
    "    print(\"Valid Count: {}, Valid Expected: {}\".format(count[1], int((p*len(images_in_data)))))\n",
    "    print(\"Train Count: {}, Train Expected: {}\".format(count[0], int((1-p)*len(images_in_data))))\n",
    "    print(\"Total Count: {}, Total Expected: {}\".format(sum(count), len(images_in_data)))\n",
    "    print(\"Valid Wrong Cat: {}\".format(wrong_cat[1]))\n",
    "    print(\"Train Wrong Cat: {}\".format(wrong_cat[0]))"
   ]
  },
  {
   "cell_type": "markdown",
   "metadata": {},
   "source": [
    "#### Outdated functions"
   ]
  },
  {
   "cell_type": "code",
   "execution_count": 6,
   "metadata": {},
   "outputs": [],
   "source": [
    "def make_cat_dicts(images_path,names):\n",
    "    cat_to_name = {}\n",
    "    name_to_cat = {}\n",
    "    names.sort()\n",
    "    for i,name in enumerate(names):\n",
    "        cat_to_name[str(i)] = name\n",
    "        name_to_cat[name] = str(i)\n",
    "    \n",
    "    json_object = json.dumps(cat_to_name, indent = 4)\n",
    "    with open(data_path+\"/cat_to_name.json\", \"w\") as outfile:\n",
    "        outfile.write(json_object)\n",
    "        \n",
    "    print(\"cat_to_name, name_to_cat created!\")\n",
    "    print(name_to_cat)\n",
    "    return cat_to_name, name_to_cat"
   ]
  },
  {
   "cell_type": "code",
   "execution_count": null,
   "metadata": {},
   "outputs": [],
   "source": []
  }
 ],
 "metadata": {
  "kernelspec": {
   "display_name": "Python 3",
   "language": "python",
   "name": "python3"
  },
  "language_info": {
   "codemirror_mode": {
    "name": "ipython",
    "version": 3
   },
   "file_extension": ".py",
   "mimetype": "text/x-python",
   "name": "python",
   "nbconvert_exporter": "python",
   "pygments_lexer": "ipython3",
   "version": "3.6.9"
  }
 },
 "nbformat": 4,
 "nbformat_minor": 4
}
