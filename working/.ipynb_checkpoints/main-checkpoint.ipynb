{
 "cells": [
  {
   "cell_type": "code",
   "execution_count": 1,
   "metadata": {},
   "outputs": [],
   "source": [
    "import matplotlib.pyplot as plt\n",
    "%matplotlib inline \n",
    "\n",
    "import pandas as pd\n",
    "\n",
    "import os\n",
    "import inspect\n",
    "import random\n",
    "import shutil\n",
    "\n",
    "import json"
   ]
  },
  {
   "cell_type": "code",
   "execution_count": 2,
   "metadata": {},
   "outputs": [
    {
     "name": "stdout",
     "output_type": "stream",
     "text": [
      "/home/petejb88/mlenv/transfer-learning-image-classifier/working/../input/covid-chest-xray/images\n"
     ]
    }
   ],
   "source": [
    "this_filename = inspect.getframeinfo(inspect.currentframe()).filename\n",
    "working_path = os.path.dirname(os.path.abspath(this_filename))\n",
    "data_path = working_path+\"/../input/covid-chest-xray\"\n",
    "images_path = data_path+\"/images\"\n",
    "data = pd.read_csv(data_path+\"/metadata.csv\")\n",
    "print(images_path)"
   ]
  },
  {
   "cell_type": "code",
   "execution_count": 4,
   "metadata": {},
   "outputs": [
    {
     "data": {
      "text/plain": [
       "COVID-19          296\n",
       "Streptococcus      17\n",
       "SARS               16\n",
       "Pneumocystis       15\n",
       "COVID-19, ARDS     12\n",
       "ARDS                4\n",
       "E.Coli              4\n",
       "No Finding          3\n",
       "Chlamydophila       2\n",
       "Legionella          2\n",
       "Klebsiella          1\n",
       "Name: finding, dtype: int64"
      ]
     },
     "execution_count": 4,
     "metadata": {},
     "output_type": "execute_result"
    }
   ],
   "source": [
    "data['finding'].value_counts()"
   ]
  },
  {
   "cell_type": "code",
   "execution_count": 3,
   "metadata": {},
   "outputs": [],
   "source": [
    "data['is_covid'] = [str(data['finding'][index] == 'COVID-19') for index in data.index]"
   ]
  },
  {
   "cell_type": "markdown",
   "metadata": {},
   "source": [
    "Create train, valid, and category FOLDERS"
   ]
  },
  {
   "cell_type": "code",
   "execution_count": 5,
   "metadata": {},
   "outputs": [],
   "source": [
    "# new_folders = ['train', 'valid']\n",
    "\n",
    "def delete_cat_folders(images_path,new_folders):\n",
    "    for folder in new_folders:\n",
    "        try:\n",
    "            shutil.rmtree(images_path+\"/\"+folder)\n",
    "            print(\"Folder {} deleted\".format(folder))\n",
    "        except:\n",
    "            print(\"Folder {} doesn't exist!\".format(folder))\n",
    "    \n",
    "def make_cat_folders(images_path,new_folders,names,name_to_cat):\n",
    "    for folder in new_folders:\n",
    "        try:\n",
    "            os.mkdir(images_path+\"/\"+folder)\n",
    "            print(\"Folder {} created\".format(folder))\n",
    "        except:\n",
    "            print('Folder {} already exists!'.format(folder))\n",
    "        for name in names:\n",
    "            try:\n",
    "                os.mkdir(images_path+\"/\"+folder+\"/\"+name_to_cat[name])\n",
    "                print(\"Folder {}/{} created\".format(folder,name_to_cat[name]))\n",
    "            except:\n",
    "                print(\"Folder {}/{} already exists!\".format(folder,name_to_cat[name]))\n",
    "                \n",
    "def make_cat_dicts(images_path,names):\n",
    "    cat_to_name = {}\n",
    "    name_to_cat = {}\n",
    "    names.sort()\n",
    "    for i,name in enumerate(names):\n",
    "            cat_to_name[str(i)] = name\n",
    "            name_to_cat[name] = str(i)\n",
    "    \n",
    "    json_object = json.dumps(cat_to_name, indent = 4)\n",
    "    with open(data_path+\"/cat_to_name.json\", \"w\") as outfile:\n",
    "        outfile.write(json_object)\n",
    "        \n",
    "    print(\"cat_to_name, name_to_cat created!\")    \n",
    "    print(name_to_cat)\n",
    "    return cat_to_name, name_to_cat\n",
    "            \n",
    "\n"
   ]
  },
  {
   "cell_type": "markdown",
   "metadata": {},
   "source": [
    "# Shuffle Images\n",
    "Now, we shuffle the images into these folders, while classifying them as we go"
   ]
  },
  {
   "cell_type": "markdown",
   "metadata": {},
   "source": [
    "First, we check to see if any images are missing: (qualitative)"
   ]
  },
  {
   "cell_type": "code",
   "execution_count": 6,
   "metadata": {},
   "outputs": [],
   "source": [
    "def check_missing(data,images_path):\n",
    "    not_in_data = []\n",
    "    in_data = []\n",
    "    for file in os.listdir(images_path):\n",
    "        if os.path.isfile(images_path+\"/\"+file):\n",
    "            file_data = data[data['filename'] == file]\n",
    "            if len(file_data) == 0:\n",
    "                not_in_data.append(file)\n",
    "            else:\n",
    "                in_data.append(file)\n",
    "\n",
    "    return not_in_data, in_data"
   ]
  },
  {
   "cell_type": "code",
   "execution_count": 7,
   "metadata": {},
   "outputs": [],
   "source": [
    "def list_images_in_data(images_path):\n",
    "    images = [image for image in os.listdir(images_path) if os.path.isfile(images_path+\"/\"+image)]\n",
    "    images_not_in_data = []\n",
    "    data_not_in_images = []\n",
    "    for image in images:\n",
    "        image_data = data[data['filename']==image]\n",
    "        if len(image_data) == 0:\n",
    "            images_not_in_data.append(image)\n",
    "    images_in_data = [image for image in images if (image not in images_not_in_data)]\n",
    "    for filename in data['filename']:\n",
    "        if filename not in os.listdir(images_path):\n",
    "            data_not_in_images.append(filename)\n",
    "    print(\"How many in folder: {}, How many not in data: {}, How many in data: {}, How many data not in images: {}\".format(\n",
    "        len(images),\n",
    "        len(images_not_in_data),\n",
    "        len(images_in_data),\n",
    "        len(data_not_in_images)))\n",
    "    return images, images_in_data, data_not_in_images"
   ]
  },
  {
   "cell_type": "markdown",
   "metadata": {},
   "source": [
    "### Todo: clean data more at startup \n",
    "Noticed a variation in the number of validation photos, coming from 21 missing images and 6 missing data entries."
   ]
  },
  {
   "cell_type": "code",
   "execution_count": null,
   "metadata": {},
   "outputs": [],
   "source": []
  },
  {
   "cell_type": "markdown",
   "metadata": {},
   "source": [
    "Test that we have shuffled property:"
   ]
  },
  {
   "cell_type": "code",
   "execution_count": 7,
   "metadata": {},
   "outputs": [],
   "source": [
    "def test_folder(p,images_in_data,column,name_to_cat,folder):\n",
    "    count = 0\n",
    "    wrong_cat = []\n",
    "    for subfolder in os.listdir(images_path+\"/\"+folder):\n",
    "        for image in os.listdir(images_path+\"/\"+folder+\"/\"+subfolder):\n",
    "            count += 1\n",
    "            image_data = data[data['filename']==image]\n",
    "            image_index = image_data.index[0]\n",
    "            image_column = image_data[column][image_index]\n",
    "            image_cat = name_to_cat[image_column]\n",
    "            if image_cat != subfolder:\n",
    "                wrong_cat.append(image)\n",
    "    return count, wrong_cat\n",
    "\n",
    "def test(p,images_in_data,column,name_to_cat,new_folders):\n",
    "    count = []\n",
    "    wrong_cat = []\n",
    "    for i,folder in enumerate(new_folders):\n",
    "        count.append(test_folder(p,images_in_data,column,name_to_cat,folder)[0])\n",
    "        wrong_cat.append(test_folder(p,images_in_data,column,name_to_cat,folder)[1])\n",
    "    print(\"Valid Count: {}, Valid Expected: {}\".format(count[1], int((p*len(images_in_data)))))\n",
    "    print(\"Train Count: {}, Train Expected: {}\".format(count[0], int((1-p)*len(images_in_data))))\n",
    "    print(\"Total Count: {}, Total Expected: {}\".format(sum(count), len(images_in_data)))\n",
    "    print(\"Valid Wrong Cat: {}\".format(wrong_cat[1]))\n",
    "    print(\"Train Wrong Cat: {}\".format(wrong_cat[0]))"
   ]
  },
  {
   "cell_type": "code",
   "execution_count": null,
   "metadata": {},
   "outputs": [],
   "source": []
  },
  {
   "cell_type": "code",
   "execution_count": 8,
   "metadata": {},
   "outputs": [],
   "source": [
    "def shuffle_images(data,images_path,p,column='finding'):\n",
    "    '''\n",
    "    Shuffle the images (as symbolic links) into training and validation folders.\n",
    "    \n",
    "    Inputs: \n",
    "        - p = percentage split into validation\n",
    "        - data = metadata\n",
    "        - images = list of images\n",
    "        - images_path = location of images\n",
    "        \n",
    "    Warning: there will always be some variability in the number of validation photos, as there are \n",
    "    '''\n",
    "    \n",
    "    names = data[column].unique()\n",
    "    \n",
    "    cat_to_name, name_to_cat = make_cat_dicts(images_path,names)\n",
    "    delete_cat_folders(images_path,['train', 'valid'])\n",
    "    make_cat_folders(images_path,['train', 'valid'], names,name_to_cat)\n",
    "    \n",
    "    images, images_in_data, data_not_in_images = list_images_in_data(images_path)\n",
    "\n",
    "    valid_nums = random.sample(range(len(images)),int(len(images_in_data)*p))\n",
    "    for image in images_in_data:    \n",
    "        image_data = data[data['filename']==image]\n",
    "        image_index = image_data.index[0]\n",
    "        image_column = image_data[column][image_index]\n",
    "        image_cat = name_to_cat[image_column]\n",
    "        if image_index in valid_nums:\n",
    "            os.symlink(images_path+\"/\"+image, images_path+\"/valid/\"+image_cat+\"/\"+image)\n",
    "        else:\n",
    "            os.symlink(images_path+\"/\"+image, images_path+\"/train/\"+image_cat+\"/\"+image)\n",
    "    \n",
    "    test(p,images_in_data,column,name_to_cat,['train','valid'])"
   ]
  },
  {
   "cell_type": "code",
   "execution_count": 9,
   "metadata": {},
   "outputs": [
    {
     "name": "stdout",
     "output_type": "stream",
     "text": [
      "cat_to_name, name_to_cat created!\n",
      "{'False': '0', 'True': '1'}\n",
      "Folder train deleted\n",
      "Folder valid deleted\n",
      "Folder train created\n",
      "Folder train/0 created\n",
      "Folder train/1 created\n",
      "Folder valid created\n",
      "Folder valid/0 created\n",
      "Folder valid/1 created\n",
      "How many in folder: 357, How many not in data: 6, How many in data: 351, How many data not in images: 21\n",
      "Valid Count: 65, Valid Expected: 70\n",
      "Train Count: 286, Train Expected: 280\n",
      "Total Count: 351, Total Expected: 351\n",
      "Valid Wrong Cat: []\n",
      "Train Wrong Cat: []\n"
     ]
    }
   ],
   "source": [
    "shuffle_images(data,images_path,0.2,'is_covid')"
   ]
  },
  {
   "cell_type": "markdown",
   "metadata": {},
   "source": [
    "# Create Model"
   ]
  },
  {
   "cell_type": "code",
   "execution_count": 10,
   "metadata": {},
   "outputs": [
    {
     "ename": "FileExistsError",
     "evalue": "[Errno 17] File exists: '/home/petejb88/mlenv/transfer-learning-image-classifier/working/../train.py' -> '/home/petejb88/mlenv/transfer-learning-image-classifier/working/train.py'",
     "output_type": "error",
     "traceback": [
      "\u001b[0;31m---------------------------------------------------------------------------\u001b[0m",
      "\u001b[0;31mFileExistsError\u001b[0m                           Traceback (most recent call last)",
      "\u001b[0;32m<ipython-input-10-c8f742e81df9>\u001b[0m in \u001b[0;36m<module>\u001b[0;34m\u001b[0m\n\u001b[0;32m----> 1\u001b[0;31m \u001b[0mos\u001b[0m\u001b[0;34m.\u001b[0m\u001b[0msymlink\u001b[0m\u001b[0;34m(\u001b[0m\u001b[0mworking_path\u001b[0m\u001b[0;34m+\u001b[0m\u001b[0;34m\"/../train.py\"\u001b[0m\u001b[0;34m,\u001b[0m \u001b[0mworking_path\u001b[0m\u001b[0;34m+\u001b[0m\u001b[0;34m\"/train.py\"\u001b[0m\u001b[0;34m)\u001b[0m\u001b[0;34m\u001b[0m\u001b[0;34m\u001b[0m\u001b[0m\n\u001b[0m\u001b[1;32m      2\u001b[0m \u001b[0mos\u001b[0m\u001b[0;34m.\u001b[0m\u001b[0msymlink\u001b[0m\u001b[0;34m(\u001b[0m\u001b[0mworking_path\u001b[0m\u001b[0;34m+\u001b[0m\u001b[0;34m\"/../predict.py\"\u001b[0m\u001b[0;34m,\u001b[0m \u001b[0mworking_path\u001b[0m\u001b[0;34m+\u001b[0m\u001b[0;34m\"/predict.py\"\u001b[0m\u001b[0;34m)\u001b[0m\u001b[0;34m\u001b[0m\u001b[0;34m\u001b[0m\u001b[0m\n\u001b[1;32m      3\u001b[0m \u001b[0mos\u001b[0m\u001b[0;34m.\u001b[0m\u001b[0msymlink\u001b[0m\u001b[0;34m(\u001b[0m\u001b[0mworking_path\u001b[0m\u001b[0;34m+\u001b[0m\u001b[0;34m\"/../model_functions.py\"\u001b[0m\u001b[0;34m,\u001b[0m \u001b[0mworking_path\u001b[0m\u001b[0;34m+\u001b[0m\u001b[0;34m\"/model_functions.py\"\u001b[0m\u001b[0;34m)\u001b[0m\u001b[0;34m\u001b[0m\u001b[0;34m\u001b[0m\u001b[0m\n\u001b[1;32m      4\u001b[0m \u001b[0mos\u001b[0m\u001b[0;34m.\u001b[0m\u001b[0msymlink\u001b[0m\u001b[0;34m(\u001b[0m\u001b[0mworking_path\u001b[0m\u001b[0;34m+\u001b[0m\u001b[0;34m\"/../predict_functions.py\"\u001b[0m\u001b[0;34m,\u001b[0m \u001b[0mworking_path\u001b[0m\u001b[0;34m+\u001b[0m\u001b[0;34m\"/predict_functions.py\"\u001b[0m\u001b[0;34m)\u001b[0m\u001b[0;34m\u001b[0m\u001b[0;34m\u001b[0m\u001b[0m\n",
      "\u001b[0;31mFileExistsError\u001b[0m: [Errno 17] File exists: '/home/petejb88/mlenv/transfer-learning-image-classifier/working/../train.py' -> '/home/petejb88/mlenv/transfer-learning-image-classifier/working/train.py'"
     ]
    }
   ],
   "source": [
    "os.symlink(working_path+\"/../train.py\", working_path+\"/train.py\")\n",
    "os.symlink(working_path+\"/../predict.py\", working_path+\"/predict.py\")\n",
    "os.symlink(working_path+\"/../model_functions.py\", working_path+\"/model_functions.py\")\n",
    "os.symlink(working_path+\"/../predict_functions.py\", working_path+\"/predict_functions.py\")"
   ]
  },
  {
   "cell_type": "code",
   "execution_count": 11,
   "metadata": {},
   "outputs": [],
   "source": [
    "os.symlink(working_path+\"/../predict_functions.py\", working_path+\"/temp.py\")\n",
    "os.rename(working_path+\"/temp.py\", working_path+\"/predict_functions.py\")"
   ]
  },
  {
   "cell_type": "code",
   "execution_count": 12,
   "metadata": {},
   "outputs": [],
   "source": [
    "from model_functions import *\n",
    "from predict_functions import *"
   ]
  },
  {
   "cell_type": "code",
   "execution_count": null,
   "metadata": {},
   "outputs": [],
   "source": [
    "import importlib,sys\n",
    "importlib.reload(sys.modules['model_functions'])\n",
    "importlib.reload(sys.modules['predict_functions'])"
   ]
  },
  {
   "cell_type": "code",
   "execution_count": null,
   "metadata": {},
   "outputs": [],
   "source": [
    "train_data, valid_data, trainloader, validloader = build_loader(images_path,16)"
   ]
  },
  {
   "cell_type": "code",
   "execution_count": null,
   "metadata": {},
   "outputs": [],
   "source": [
    "model, criterion, optimizer = build_model(\"alexnet\",0.01,[1024,1024],train_data)"
   ]
  },
  {
   "cell_type": "code",
   "execution_count": null,
   "metadata": {},
   "outputs": [],
   "source": [
    "model, optimizer, train_losses, valid_losses, accuracy_data = train_model(model,criterion,optimizer,trainloader,validloader,6,5,False)"
   ]
  },
  {
   "cell_type": "code",
   "execution_count": null,
   "metadata": {},
   "outputs": [],
   "source": [
    "plot_stats(train_losses, valid_losses)"
   ]
  },
  {
   "cell_type": "code",
   "execution_count": null,
   "metadata": {},
   "outputs": [],
   "source": [
    "len(valid_losses) == len(train_losses)"
   ]
  },
  {
   "cell_type": "code",
   "execution_count": null,
   "metadata": {},
   "outputs": [],
   "source": [
    "n = 2\n",
    "plt.plot(range(n,len(train_losses)), train_losses[n:], label=\"train losses\")\n",
    "plt.plot(range(n,len(train_losses)), valid_losses[n:], label=\"valid losses\")"
   ]
  },
  {
   "cell_type": "code",
   "execution_count": null,
   "metadata": {},
   "outputs": [],
   "source": [
    "create_checkpoint(model,optimizer,\"alexnet\",0.01,6,working_path)"
   ]
  },
  {
   "cell_type": "code",
   "execution_count": 16,
   "metadata": {},
   "outputs": [
    {
     "name": "stdout",
     "output_type": "stream",
     "text": [
      "cat_to_name, name_to_cat created!\n",
      "{'False': '0', 'True': '1'}\n",
      "How many in folder: 357, How many not in data: 6, How many in data: 351, How many data not in images: 21\n"
     ]
    },
    {
     "ename": "RuntimeError",
     "evalue": "The size of tensor a (4) must match the size of tensor b (3) at non-singleton dimension 0",
     "output_type": "error",
     "traceback": [
      "\u001b[0;31m---------------------------------------------------------------------------\u001b[0m",
      "\u001b[0;31mRuntimeError\u001b[0m                              Traceback (most recent call last)",
      "\u001b[0;32m<ipython-input-16-052465c26d70>\u001b[0m in \u001b[0;36m<module>\u001b[0;34m\u001b[0m\n\u001b[1;32m      9\u001b[0m     \u001b[0mimage_cat\u001b[0m \u001b[0;34m=\u001b[0m \u001b[0mname_to_cat\u001b[0m\u001b[0;34m[\u001b[0m\u001b[0mimage_column\u001b[0m\u001b[0;34m]\u001b[0m\u001b[0;34m\u001b[0m\u001b[0;34m\u001b[0m\u001b[0m\n\u001b[1;32m     10\u001b[0m \u001b[0;34m\u001b[0m\u001b[0m\n\u001b[0;32m---> 11\u001b[0;31m     \u001b[0mtop_prob\u001b[0m\u001b[0;34m,\u001b[0m \u001b[0mtop_class\u001b[0m \u001b[0;34m=\u001b[0m \u001b[0mpredict\u001b[0m\u001b[0;34m(\u001b[0m\u001b[0mimages_path\u001b[0m\u001b[0;34m+\u001b[0m\u001b[0;34m\"/\"\u001b[0m\u001b[0;34m+\u001b[0m\u001b[0mimage\u001b[0m\u001b[0;34m,\u001b[0m\u001b[0mmodel\u001b[0m\u001b[0;34m,\u001b[0m\u001b[0;36m1\u001b[0m\u001b[0;34m,\u001b[0m\u001b[0;32mFalse\u001b[0m\u001b[0;34m)\u001b[0m\u001b[0;34m\u001b[0m\u001b[0;34m\u001b[0m\u001b[0m\n\u001b[0m\u001b[1;32m     12\u001b[0m     \u001b[0maccuracy\u001b[0m \u001b[0;34m+=\u001b[0m \u001b[0;34m(\u001b[0m\u001b[0mtop_class\u001b[0m \u001b[0;34m==\u001b[0m \u001b[0mimage_cat\u001b[0m\u001b[0;34m)\u001b[0m\u001b[0;34m\u001b[0m\u001b[0;34m\u001b[0m\u001b[0m\n\u001b[1;32m     13\u001b[0m \u001b[0mprint\u001b[0m\u001b[0;34m(\u001b[0m\u001b[0;34m\"Accuracy: {}\"\u001b[0m\u001b[0;34m.\u001b[0m\u001b[0mformat\u001b[0m\u001b[0;34m(\u001b[0m\u001b[0maccuracy\u001b[0m \u001b[0;34m/\u001b[0m \u001b[0mlen\u001b[0m\u001b[0;34m(\u001b[0m\u001b[0mimages_in_data\u001b[0m\u001b[0;34m)\u001b[0m\u001b[0;34m)\u001b[0m\u001b[0;34m)\u001b[0m\u001b[0;34m\u001b[0m\u001b[0;34m\u001b[0m\u001b[0m\n",
      "\u001b[0;32m~/mlenv/transfer-learning-image-classifier/working/predict_functions.py\u001b[0m in \u001b[0;36mpredict\u001b[0;34m(image_path, model, topk, gpu)\u001b[0m\n\u001b[1;32m     80\u001b[0m     \u001b[0mdevice\u001b[0m \u001b[0;34m=\u001b[0m \u001b[0mtorch\u001b[0m\u001b[0;34m.\u001b[0m\u001b[0mdevice\u001b[0m\u001b[0;34m(\u001b[0m\u001b[0;34m\"cuda:0\"\u001b[0m \u001b[0;32mif\u001b[0m \u001b[0;34m(\u001b[0m\u001b[0mtorch\u001b[0m\u001b[0;34m.\u001b[0m\u001b[0mcuda\u001b[0m\u001b[0;34m.\u001b[0m\u001b[0mis_available\u001b[0m\u001b[0;34m(\u001b[0m\u001b[0;34m)\u001b[0m \u001b[0;32mand\u001b[0m \u001b[0mgpu\u001b[0m\u001b[0;34m)\u001b[0m \u001b[0;32melse\u001b[0m \u001b[0;34m\"cpu\"\u001b[0m\u001b[0;34m)\u001b[0m\u001b[0;34m\u001b[0m\u001b[0;34m\u001b[0m\u001b[0m\n\u001b[1;32m     81\u001b[0m     \u001b[0mmodel\u001b[0m \u001b[0;34m=\u001b[0m \u001b[0mmodel\u001b[0m\u001b[0;34m.\u001b[0m\u001b[0mto\u001b[0m\u001b[0;34m(\u001b[0m\u001b[0mdevice\u001b[0m\u001b[0;34m)\u001b[0m\u001b[0;34m\u001b[0m\u001b[0;34m\u001b[0m\u001b[0m\n\u001b[0;32m---> 82\u001b[0;31m \u001b[0;34m\u001b[0m\u001b[0m\n\u001b[0m\u001b[1;32m     83\u001b[0m     \u001b[0mimage\u001b[0m \u001b[0;34m=\u001b[0m \u001b[0mImage\u001b[0m\u001b[0;34m.\u001b[0m\u001b[0mopen\u001b[0m\u001b[0;34m(\u001b[0m\u001b[0mimage_path\u001b[0m\u001b[0;34m)\u001b[0m\u001b[0;34m\u001b[0m\u001b[0;34m\u001b[0m\u001b[0m\n\u001b[1;32m     84\u001b[0m     \u001b[0mprocessed_image\u001b[0m \u001b[0;34m=\u001b[0m \u001b[0mprocess_image\u001b[0m\u001b[0;34m(\u001b[0m\u001b[0mimage\u001b[0m\u001b[0;34m)\u001b[0m\u001b[0;34m.\u001b[0m\u001b[0munsqueeze\u001b[0m\u001b[0;34m(\u001b[0m\u001b[0;36m0\u001b[0m\u001b[0;34m)\u001b[0m\u001b[0;34m\u001b[0m\u001b[0;34m\u001b[0m\u001b[0m\n",
      "\u001b[0;32m~/mlenv/transfer-learning-image-classifier/working/predict_functions.py\u001b[0m in \u001b[0;36mprocess_image\u001b[0;34m(image)\u001b[0m\n\u001b[1;32m     61\u001b[0m                                              \u001b[0mtransforms\u001b[0m\u001b[0;34m.\u001b[0m\u001b[0mToTensor\u001b[0m\u001b[0;34m(\u001b[0m\u001b[0;34m)\u001b[0m\u001b[0;34m,\u001b[0m\u001b[0;34m\u001b[0m\u001b[0;34m\u001b[0m\u001b[0m\n\u001b[1;32m     62\u001b[0m                                              transforms.Normalize(\n\u001b[0;32m---> 63\u001b[0;31m                                                 \u001b[0;34m[\u001b[0m\u001b[0;36m0.485\u001b[0m\u001b[0;34m,\u001b[0m \u001b[0;36m0.456\u001b[0m\u001b[0;34m,\u001b[0m \u001b[0;36m0.406\u001b[0m\u001b[0;34m]\u001b[0m\u001b[0;34m,\u001b[0m\u001b[0;34m\u001b[0m\u001b[0;34m\u001b[0m\u001b[0m\n\u001b[0m\u001b[1;32m     64\u001b[0m                                                 [0.229, 0.224, 0.225])])    \n\u001b[1;32m     65\u001b[0m     \u001b[0;32mreturn\u001b[0m \u001b[0mprocess_transforms\u001b[0m\u001b[0;34m(\u001b[0m\u001b[0mimage\u001b[0m\u001b[0;34m)\u001b[0m\u001b[0;34m\u001b[0m\u001b[0;34m\u001b[0m\u001b[0m\n",
      "\u001b[0;32m~/mlenv/lib/python3.6/site-packages/torchvision/transforms/transforms.py\u001b[0m in \u001b[0;36m__call__\u001b[0;34m(self, img)\u001b[0m\n\u001b[1;32m     59\u001b[0m     \u001b[0;32mdef\u001b[0m \u001b[0m__call__\u001b[0m\u001b[0;34m(\u001b[0m\u001b[0mself\u001b[0m\u001b[0;34m,\u001b[0m \u001b[0mimg\u001b[0m\u001b[0;34m)\u001b[0m\u001b[0;34m:\u001b[0m\u001b[0;34m\u001b[0m\u001b[0;34m\u001b[0m\u001b[0m\n\u001b[1;32m     60\u001b[0m         \u001b[0;32mfor\u001b[0m \u001b[0mt\u001b[0m \u001b[0;32min\u001b[0m \u001b[0mself\u001b[0m\u001b[0;34m.\u001b[0m\u001b[0mtransforms\u001b[0m\u001b[0;34m:\u001b[0m\u001b[0;34m\u001b[0m\u001b[0;34m\u001b[0m\u001b[0m\n\u001b[0;32m---> 61\u001b[0;31m             \u001b[0mimg\u001b[0m \u001b[0;34m=\u001b[0m \u001b[0mt\u001b[0m\u001b[0;34m(\u001b[0m\u001b[0mimg\u001b[0m\u001b[0;34m)\u001b[0m\u001b[0;34m\u001b[0m\u001b[0;34m\u001b[0m\u001b[0m\n\u001b[0m\u001b[1;32m     62\u001b[0m         \u001b[0;32mreturn\u001b[0m \u001b[0mimg\u001b[0m\u001b[0;34m\u001b[0m\u001b[0;34m\u001b[0m\u001b[0m\n\u001b[1;32m     63\u001b[0m \u001b[0;34m\u001b[0m\u001b[0m\n",
      "\u001b[0;32m~/mlenv/lib/python3.6/site-packages/torchvision/transforms/transforms.py\u001b[0m in \u001b[0;36m__call__\u001b[0;34m(self, tensor)\u001b[0m\n\u001b[1;32m    164\u001b[0m             \u001b[0mTensor\u001b[0m\u001b[0;34m:\u001b[0m \u001b[0mNormalized\u001b[0m \u001b[0mTensor\u001b[0m \u001b[0mimage\u001b[0m\u001b[0;34m.\u001b[0m\u001b[0;34m\u001b[0m\u001b[0;34m\u001b[0m\u001b[0m\n\u001b[1;32m    165\u001b[0m         \"\"\"\n\u001b[0;32m--> 166\u001b[0;31m         \u001b[0;32mreturn\u001b[0m \u001b[0mF\u001b[0m\u001b[0;34m.\u001b[0m\u001b[0mnormalize\u001b[0m\u001b[0;34m(\u001b[0m\u001b[0mtensor\u001b[0m\u001b[0;34m,\u001b[0m \u001b[0mself\u001b[0m\u001b[0;34m.\u001b[0m\u001b[0mmean\u001b[0m\u001b[0;34m,\u001b[0m \u001b[0mself\u001b[0m\u001b[0;34m.\u001b[0m\u001b[0mstd\u001b[0m\u001b[0;34m,\u001b[0m \u001b[0mself\u001b[0m\u001b[0;34m.\u001b[0m\u001b[0minplace\u001b[0m\u001b[0;34m)\u001b[0m\u001b[0;34m\u001b[0m\u001b[0;34m\u001b[0m\u001b[0m\n\u001b[0m\u001b[1;32m    167\u001b[0m \u001b[0;34m\u001b[0m\u001b[0m\n\u001b[1;32m    168\u001b[0m     \u001b[0;32mdef\u001b[0m \u001b[0m__repr__\u001b[0m\u001b[0;34m(\u001b[0m\u001b[0mself\u001b[0m\u001b[0;34m)\u001b[0m\u001b[0;34m:\u001b[0m\u001b[0;34m\u001b[0m\u001b[0;34m\u001b[0m\u001b[0m\n",
      "\u001b[0;32m~/mlenv/lib/python3.6/site-packages/torchvision/transforms/functional.py\u001b[0m in \u001b[0;36mnormalize\u001b[0;34m(tensor, mean, std, inplace)\u001b[0m\n\u001b[1;32m    206\u001b[0m     \u001b[0;32mif\u001b[0m \u001b[0mstd\u001b[0m\u001b[0;34m.\u001b[0m\u001b[0mndim\u001b[0m \u001b[0;34m==\u001b[0m \u001b[0;36m1\u001b[0m\u001b[0;34m:\u001b[0m\u001b[0;34m\u001b[0m\u001b[0;34m\u001b[0m\u001b[0m\n\u001b[1;32m    207\u001b[0m         \u001b[0mstd\u001b[0m \u001b[0;34m=\u001b[0m \u001b[0mstd\u001b[0m\u001b[0;34m[\u001b[0m\u001b[0;34m:\u001b[0m\u001b[0;34m,\u001b[0m \u001b[0;32mNone\u001b[0m\u001b[0;34m,\u001b[0m \u001b[0;32mNone\u001b[0m\u001b[0;34m]\u001b[0m\u001b[0;34m\u001b[0m\u001b[0;34m\u001b[0m\u001b[0m\n\u001b[0;32m--> 208\u001b[0;31m     \u001b[0mtensor\u001b[0m\u001b[0;34m.\u001b[0m\u001b[0msub_\u001b[0m\u001b[0;34m(\u001b[0m\u001b[0mmean\u001b[0m\u001b[0;34m)\u001b[0m\u001b[0;34m.\u001b[0m\u001b[0mdiv_\u001b[0m\u001b[0;34m(\u001b[0m\u001b[0mstd\u001b[0m\u001b[0;34m)\u001b[0m\u001b[0;34m\u001b[0m\u001b[0;34m\u001b[0m\u001b[0m\n\u001b[0m\u001b[1;32m    209\u001b[0m     \u001b[0;32mreturn\u001b[0m \u001b[0mtensor\u001b[0m\u001b[0;34m\u001b[0m\u001b[0;34m\u001b[0m\u001b[0m\n\u001b[1;32m    210\u001b[0m \u001b[0;34m\u001b[0m\u001b[0m\n",
      "\u001b[0;31mRuntimeError\u001b[0m: The size of tensor a (4) must match the size of tensor b (3) at non-singleton dimension 0"
     ]
    }
   ],
   "source": [
    "accuracy = 0\n",
    "column=\"is_covid\"\n",
    "cat_to_name, name_to_cat = make_cat_dicts(images_path,data[column].unique())\n",
    "images, images_in_data, data_not_in_images = list_images_in_data(images_path)\n",
    "for image in images_in_data:\n",
    "    image_data = data[data['filename']==image]\n",
    "    image_index = image_data.index[0]\n",
    "    image_column = image_data[column][image_index]\n",
    "    image_cat = name_to_cat[image_column]\n",
    "    \n",
    "    top_prob, top_class = predict(images_path+\"/\"+image,model,1,False)       \n",
    "    accuracy += (top_class == image_cat) \n",
    "print(\"Accuracy: {}\".format(accuracy / len(images_in_data)))"
   ]
  },
  {
   "cell_type": "code",
   "execution_count": 14,
   "metadata": {},
   "outputs": [],
   "source": [
    "model = load_checkpoint(working_path+\"/../workingcheckpoint.pth\")"
   ]
  },
  {
   "cell_type": "code",
   "execution_count": 17,
   "metadata": {},
   "outputs": [
    {
     "data": {
      "text/plain": [
       "AlexNet(\n",
       "  (features): Sequential(\n",
       "    (0): Conv2d(3, 64, kernel_size=(11, 11), stride=(4, 4), padding=(2, 2))\n",
       "    (1): ReLU(inplace=True)\n",
       "    (2): MaxPool2d(kernel_size=3, stride=2, padding=0, dilation=1, ceil_mode=False)\n",
       "    (3): Conv2d(64, 192, kernel_size=(5, 5), stride=(1, 1), padding=(2, 2))\n",
       "    (4): ReLU(inplace=True)\n",
       "    (5): MaxPool2d(kernel_size=3, stride=2, padding=0, dilation=1, ceil_mode=False)\n",
       "    (6): Conv2d(192, 384, kernel_size=(3, 3), stride=(1, 1), padding=(1, 1))\n",
       "    (7): ReLU(inplace=True)\n",
       "    (8): Conv2d(384, 256, kernel_size=(3, 3), stride=(1, 1), padding=(1, 1))\n",
       "    (9): ReLU(inplace=True)\n",
       "    (10): Conv2d(256, 256, kernel_size=(3, 3), stride=(1, 1), padding=(1, 1))\n",
       "    (11): ReLU(inplace=True)\n",
       "    (12): MaxPool2d(kernel_size=3, stride=2, padding=0, dilation=1, ceil_mode=False)\n",
       "  )\n",
       "  (avgpool): AdaptiveAvgPool2d(output_size=(6, 6))\n",
       "  (classifier): Sequential(\n",
       "    (fc1): Linear(in_features=9216, out_features=1024, bias=True)\n",
       "    (relu1): ReLU()\n",
       "    (drop1): Dropout(p=0.5, inplace=False)\n",
       "    (fc2): Linear(in_features=1024, out_features=1024, bias=True)\n",
       "    (relu2): ReLU()\n",
       "    (drop2): Dropout(p=0.2, inplace=False)\n",
       "    (fc3): Linear(in_features=1024, out_features=102, bias=True)\n",
       "    (output): LogSoftmax()\n",
       "  )\n",
       ")"
      ]
     },
     "execution_count": 17,
     "metadata": {},
     "output_type": "execute_result"
    }
   ],
   "source": [
    "model"
   ]
  },
  {
   "cell_type": "code",
   "execution_count": null,
   "metadata": {},
   "outputs": [],
   "source": []
  }
 ],
 "metadata": {
  "kernelspec": {
   "display_name": "Python 3",
   "language": "python",
   "name": "python3"
  },
  "language_info": {
   "codemirror_mode": {
    "name": "ipython",
    "version": 3
   },
   "file_extension": ".py",
   "mimetype": "text/x-python",
   "name": "python",
   "nbconvert_exporter": "python",
   "pygments_lexer": "ipython3",
   "version": "3.6.9"
  }
 },
 "nbformat": 4,
 "nbformat_minor": 4
}
