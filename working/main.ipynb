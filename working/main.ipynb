{
 "cells": [
  {
   "cell_type": "code",
   "execution_count": 54,
   "metadata": {},
   "outputs": [],
   "source": [
    "import pandas as pd\n",
    "\n",
    "import os\n",
    "import inspect\n",
    "\n",
    "import random\n",
    "import shutil"
   ]
  },
  {
   "cell_type": "code",
   "execution_count": 75,
   "metadata": {},
   "outputs": [
    {
     "name": "stdout",
     "output_type": "stream",
     "text": [
      "/home/petejb88/mlenv/transfer-learning-image-classifier/working/../input/covid-chest-xray/images/all_images\n"
     ]
    }
   ],
   "source": [
    "this_filename = inspect.getframeinfo(inspect.currentframe()).filename\n",
    "path = os.path.dirname(os.path.abspath(this_filename))\n",
    "\n",
    "images_path = path+\"/../input/covid-chest-xray/images/all_images\"\n",
    "data = pd.read_csv(path+\"/../input/covid-chest-xray/metadata.csv\")\n",
    "print(images_path)"
   ]
  },
  {
   "cell_type": "code",
   "execution_count": 119,
   "metadata": {},
   "outputs": [
    {
     "name": "stdout",
     "output_type": "stream",
     "text": [
      "['COVID-19' 'ARDS' 'SARS' 'Pneumocystis' 'Streptococcus' 'No Finding'\n",
      " 'Chlamydophila' 'E.Coli' 'COVID-19, ARDS' 'Klebsiella' 'Legionella']\n"
     ]
    }
   ],
   "source": [
    "categories = data.finding.unique()\n",
    "print(categories)"
   ]
  },
  {
   "cell_type": "code",
   "execution_count": 40,
   "metadata": {},
   "outputs": [
    {
     "name": "stdout",
     "output_type": "stream",
     "text": [
      "372\n",
      "12\n"
     ]
    }
   ],
   "source": [
    "print(len(data))\n",
    "data_both = data[data['finding'] == 'COVID-19, ARDS']\n",
    "print(len(data_both.index))"
   ]
  },
  {
   "cell_type": "markdown",
   "metadata": {},
   "source": [
    "There are 372 pictures total, and 12 with both COVID-19 and ARDS. \n",
    "For ease of classification, we remove these 12."
   ]
  },
  {
   "cell_type": "code",
   "execution_count": 41,
   "metadata": {},
   "outputs": [
    {
     "name": "stdout",
     "output_type": "stream",
     "text": [
      "['COVID-19' 'ARDS' 'SARS' 'Pneumocystis' 'Streptococcus' 'No Finding'\n",
      " 'Chlamydophila' 'E.Coli' 'Klebsiella' 'Legionella']\n"
     ]
    }
   ],
   "source": [
    "data_unique = data[data['finding'] != 'COVID-19, ARDS']\n",
    "infections = data_unique.finding.unique()\n",
    "print(infections)"
   ]
  },
  {
   "cell_type": "markdown",
   "metadata": {},
   "source": [
    "ONLY RUN THIS ONCE: create train, valid, and category FOLDERS"
   ]
  },
  {
   "cell_type": "code",
   "execution_count": 121,
   "metadata": {},
   "outputs": [],
   "source": [
    "new_folders = ['train', 'valid']\n",
    "\n",
    "def delete_cat_folders(images_path,new_folders):\n",
    "    for folder in new_folders:\n",
    "        try:\n",
    "            shutil.rmtree(images_path+\"/../\"+folder)\n",
    "        except:\n",
    "            print(\"Folder {} doesn't exist!\".format(folder))\n",
    "    \n",
    "def make_cat_folders(images_path,categories):\n",
    "    for folder in new_folders:\n",
    "        try:\n",
    "            os.mkdir(images_path+\"/../\"+folder)\n",
    "        except:\n",
    "            print('Folder {} already exists!'.format(folder))\n",
    "        for i, cat in enumerate(categories):\n",
    "            try:\n",
    "                os.mkdir(images_path+\"/../\"+folder+\"/\"+str(i))\n",
    "            except:\n",
    "                print(\"Folder {}/{} already exists!\".format(folder,cat))\n",
    "                \n",
    "def make_cat_dicts(images_path,categories):\n",
    "    cat_to_names = {}\n",
    "    names_to_cat = {}\n",
    "    for i,cat in enumerate(categories):\n",
    "            cat_to_names[str(i)] = cat\n",
    "            names_to_cat[cat] = str(i)\n",
    "            \n",
    "    return cat_to_names, names_to_cat\n",
    "            \n",
    "\n"
   ]
  },
  {
   "cell_type": "code",
   "execution_count": 123,
   "metadata": {},
   "outputs": [
    {
     "name": "stdout",
     "output_type": "stream",
     "text": [
      "['COVID-19' 'ARDS' 'SARS' 'Pneumocystis' 'Streptococcus' 'No Finding'\n",
      " 'Chlamydophila' 'E.Coli' 'COVID-19, ARDS' 'Klebsiella' 'Legionella']\n"
     ]
    }
   ],
   "source": [
    "cat_to_names, names_to_cat = make_cat_dicts(images_path,categories)"
   ]
  },
  {
   "cell_type": "markdown",
   "metadata": {},
   "source": [
    "Now, we shuffle the images into these folders, while classifying them as we go"
   ]
  },
  {
   "cell_type": "markdown",
   "metadata": {},
   "source": [
    "First, we check to see if any images are missing: (qualitative)"
   ]
  },
  {
   "cell_type": "code",
   "execution_count": 96,
   "metadata": {},
   "outputs": [
    {
     "name": "stdout",
     "output_type": "stream",
     "text": [
      "How many in folder: 357, How many not in data: 6, How many in data: 351\n"
     ]
    }
   ],
   "source": [
    "def check_missing(data,images_path):\n",
    "    not_in_data = []\n",
    "    in_data = []\n",
    "    for file in os.listdir(images_path):\n",
    "        if os.path.isfile(images_path+\"/\"+file):\n",
    "            file_data = data[data['filename'] == file]\n",
    "            if len(file_data) == 0:\n",
    "                not_in_data.append(file)\n",
    "            else:\n",
    "                in_data.append(file)\n",
    "\n",
    "    return not_in_data, in_data\n",
    "\n",
    "images = [image for image in os.listdir(images_path) if os.path.isfile(images_path+\"/\"+image)]\n",
    "images_not_in_data, in_data = check_missing(data,images_path)\n",
    "images_in_data = [image for image in images if (image not in not_in_data)]\n",
    "print(\"How many in folder: {}, How many not in data: {}, How many in data: {}\".format(\n",
    "    len(images),\n",
    "    len(images_not_in_data),\n",
    "    len(images_in_data)))\n"
   ]
  },
  {
   "cell_type": "code",
   "execution_count": 126,
   "metadata": {},
   "outputs": [],
   "source": [
    "def shuffle_images(data,images_path,p):\n",
    "    '''\n",
    "    Shuffle the images into validation and train folders.\n",
    "    \n",
    "    Inputs: \n",
    "        - p = percentage split into validation\n",
    "        - data = metadata\n",
    "        - images = list of images\n",
    "        - images_path = location of images\n",
    "    '''\n",
    "    \n",
    "    categories = data.finding.unique()\n",
    "    delete_cat_folders(images_path,['train', 'valid'])\n",
    "    make_cat_folders(images_path,categories)\n",
    "    \n",
    "    images = [image for image in os.listdir(images_path) if os.path.isfile(images_path+\"/\"+image)]\n",
    "    valid_nums = random.sample(range(len(images)),int(len(images)*p))\n",
    "    \n",
    "    for image in images:\n",
    "        image_data = data[data['filename']==image]\n",
    "        if len(image_data) == 0:\n",
    "            continue\n",
    "        else:\n",
    "            image_index = image_data.index[0]\n",
    "            image_finding = image_data['finding'][image_index]\n",
    "            image_cat = names_to_cat[image_finding]\n",
    "            if image_index in valid_nums:\n",
    "                os.link(images_path+\"/\"+image, images_path+\"/../valid/\"+image_cat+\"/\"+image)\n",
    "            else:\n",
    "                os.link(images_path+\"/\"+image, images_path+\"/../train/\"+image_cat+\"/\"+image)\n",
    "                \n",
    "shuffle_images(data,images_path,0.2)"
   ]
  },
  {
   "cell_type": "code",
   "execution_count": 9,
   "metadata": {},
   "outputs": [
    {
     "ename": "NameError",
     "evalue": "name 'data' is not defined",
     "output_type": "error",
     "traceback": [
      "\u001b[0;31m---------------------------------------------------------------------------\u001b[0m",
      "\u001b[0;31mNameError\u001b[0m                                 Traceback (most recent call last)",
      "\u001b[0;32m<ipython-input-9-8f2e98d93b64>\u001b[0m in \u001b[0;36m<module>\u001b[0;34m\u001b[0m\n\u001b[0;32m----> 1\u001b[0;31m \u001b[0mimage_data\u001b[0m \u001b[0;34m=\u001b[0m \u001b[0mdata\u001b[0m\u001b[0;34m.\u001b[0m\u001b[0mloc\u001b[0m\u001b[0;34m[\u001b[0m\u001b[0mdata\u001b[0m\u001b[0;34m[\u001b[0m\u001b[0;34m'X_ray_image_name'\u001b[0m\u001b[0;34m]\u001b[0m\u001b[0;34m==\u001b[0m\u001b[0;34m'person40_virus_87.jpeg'\u001b[0m\u001b[0;34m]\u001b[0m\u001b[0;34m\u001b[0m\u001b[0;34m\u001b[0m\u001b[0m\n\u001b[0m\u001b[1;32m      2\u001b[0m \u001b[0mimage_index\u001b[0m \u001b[0;34m=\u001b[0m \u001b[0mimage_data\u001b[0m\u001b[0;34m.\u001b[0m\u001b[0mindex\u001b[0m\u001b[0;34m\u001b[0m\u001b[0;34m\u001b[0m\u001b[0m\n\u001b[1;32m      3\u001b[0m \u001b[0mimage_label\u001b[0m \u001b[0;34m=\u001b[0m \u001b[0mimage_data\u001b[0m\u001b[0;34m[\u001b[0m\u001b[0;34m'Label'\u001b[0m\u001b[0;34m]\u001b[0m\u001b[0;34m[\u001b[0m\u001b[0mimage_index\u001b[0m\u001b[0;34m]\u001b[0m\u001b[0;34m\u001b[0m\u001b[0;34m\u001b[0m\u001b[0m\n\u001b[1;32m      4\u001b[0m \u001b[0mimage_type\u001b[0m \u001b[0;34m=\u001b[0m \u001b[0mimage_data\u001b[0m\u001b[0;34m[\u001b[0m\u001b[0;34m'Dataset_type'\u001b[0m\u001b[0;34m]\u001b[0m\u001b[0;34m[\u001b[0m\u001b[0mimage_index\u001b[0m\u001b[0;34m]\u001b[0m\u001b[0;34m\u001b[0m\u001b[0;34m\u001b[0m\u001b[0m\n\u001b[1;32m      5\u001b[0m \u001b[0mprint\u001b[0m\u001b[0;34m(\u001b[0m\u001b[0;34m\"Image Label: {}\"\u001b[0m\u001b[0;34m.\u001b[0m\u001b[0mformat\u001b[0m\u001b[0;34m(\u001b[0m\u001b[0mimage_label\u001b[0m\u001b[0;34m)\u001b[0m\u001b[0;34m)\u001b[0m\u001b[0;34m\u001b[0m\u001b[0;34m\u001b[0m\u001b[0m\n",
      "\u001b[0;31mNameError\u001b[0m: name 'data' is not defined"
     ]
    }
   ],
   "source": [
    "image_data = data.loc[data['X_ray_image_name']=='person40_virus_87.jpeg']\n",
    "image_index = image_data.index\n",
    "image_label = image_data['Label'][image_index]\n",
    "image_type = image_data['Dataset_type'][image_index]\n",
    "print(\"Image Label: {}\".format(image_label))\n",
    "print(\"Image Type: {}\".format(image_type))\n"
   ]
  },
  {
   "cell_type": "code",
   "execution_count": null,
   "metadata": {},
   "outputs": [],
   "source": []
  }
 ],
 "metadata": {
  "kernelspec": {
   "display_name": "Python 3",
   "language": "python",
   "name": "python3"
  },
  "language_info": {
   "codemirror_mode": {
    "name": "ipython",
    "version": 3
   },
   "file_extension": ".py",
   "mimetype": "text/x-python",
   "name": "python",
   "nbconvert_exporter": "python",
   "pygments_lexer": "ipython3",
   "version": "3.6.9"
  }
 },
 "nbformat": 4,
 "nbformat_minor": 4
}
