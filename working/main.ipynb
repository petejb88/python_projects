{
 "cells": [
  {
   "cell_type": "code",
   "execution_count": 154,
   "metadata": {},
   "outputs": [],
   "source": [
    "%matplotlib inline \n",
    "\n",
    "import pandas as pd\n",
    "\n",
    "import os\n",
    "import inspect\n",
    "import random\n",
    "import shutil\n",
    "\n",
    "import json"
   ]
  },
  {
   "cell_type": "code",
   "execution_count": 106,
   "metadata": {},
   "outputs": [
    {
     "name": "stdout",
     "output_type": "stream",
     "text": [
      "/home/petejb88/mlenv/transfer-learning-image-classifier/working/../input/covid-chest-xray/images\n"
     ]
    }
   ],
   "source": [
    "this_filename = inspect.getframeinfo(inspect.currentframe()).filename\n",
    "working_path = os.path.dirname(os.path.abspath(this_filename))\n",
    "data_path = working_path+\"/../input/covid-chest-xray\"\n",
    "images_path = data_path+\"/images\"\n",
    "data = pd.read_csv(data_path+\"/metadata.csv\")\n",
    "print(images_path)"
   ]
  },
  {
   "cell_type": "code",
   "execution_count": 4,
   "metadata": {},
   "outputs": [
    {
     "name": "stdout",
     "output_type": "stream",
     "text": [
      "['COVID-19' 'ARDS' 'SARS' 'Pneumocystis' 'Streptococcus' 'No Finding'\n",
      " 'Chlamydophila' 'E.Coli' 'COVID-19, ARDS' 'Klebsiella' 'Legionella']\n"
     ]
    }
   ],
   "source": [
    "categories = data.finding.unique()\n",
    "print(categories)"
   ]
  },
  {
   "cell_type": "markdown",
   "metadata": {},
   "source": [
    "Create train, valid, and category FOLDERS"
   ]
  },
  {
   "cell_type": "code",
   "execution_count": 14,
   "metadata": {},
   "outputs": [],
   "source": [
    "new_folders = ['train', 'valid']\n",
    "\n",
    "def delete_cat_folders(images_path,new_folders):\n",
    "    for folder in new_folders:\n",
    "        try:\n",
    "            shutil.rmtree(images_path+\"/\"+folder)\n",
    "        except:\n",
    "            print(\"Folder {} doesn't exist!\".format(folder))\n",
    "    \n",
    "def make_cat_folders(images_path,categories):\n",
    "    for folder in new_folders:\n",
    "        try:\n",
    "            os.mkdir(images_path+\"/\"+folder)\n",
    "        except:\n",
    "            print('Folder {} already exists!'.format(folder))\n",
    "        for i, cat in enumerate(categories):\n",
    "            try:\n",
    "                os.mkdir(images_path+\"/\"+folder+\"/\"+str(i))\n",
    "            except:\n",
    "                print(\"Folder {}/{} already exists!\".format(folder,cat))\n",
    "                \n",
    "def make_cat_dicts(images_path,categories):\n",
    "    cat_to_names = {}\n",
    "    names_to_cat = {}\n",
    "    for i,cat in enumerate(categories):\n",
    "            cat_to_names[str(i)] = cat\n",
    "            names_to_cat[cat] = str(i)\n",
    "    \n",
    "    json_object = json.dumps(cat_to_names, indent = 4)\n",
    "    with open(data_path+\"/cat_to_names.json\", \"w\") as outfile:\n",
    "        outfile.write(json_object)\n",
    "        \n",
    "    return cat_to_names, names_to_cat\n",
    "            \n",
    "\n"
   ]
  },
  {
   "cell_type": "code",
   "execution_count": 12,
   "metadata": {},
   "outputs": [],
   "source": [
    "cat_to_names, names_to_cat = make_cat_dicts(images_path,categories)"
   ]
  },
  {
   "cell_type": "markdown",
   "metadata": {},
   "source": [
    "# Shuffle Images\n",
    "Now, we shuffle the images into these folders, while classifying them as we go"
   ]
  },
  {
   "cell_type": "markdown",
   "metadata": {},
   "source": [
    "First, we check to see if any images are missing: (qualitative)"
   ]
  },
  {
   "cell_type": "code",
   "execution_count": 16,
   "metadata": {},
   "outputs": [],
   "source": [
    "def check_missing(data,images_path):\n",
    "    not_in_data = []\n",
    "    in_data = []\n",
    "    for file in os.listdir(images_path):\n",
    "        if os.path.isfile(images_path+\"/\"+file):\n",
    "            file_data = data[data['filename'] == file]\n",
    "            if len(file_data) == 0:\n",
    "                not_in_data.append(file)\n",
    "            else:\n",
    "                in_data.append(file)\n",
    "\n",
    "    return not_in_data, in_data"
   ]
  },
  {
   "cell_type": "code",
   "execution_count": 100,
   "metadata": {},
   "outputs": [],
   "source": [
    "def list_images_in_data(images_path):\n",
    "    images = [image for image in os.listdir(images_path) if os.path.isfile(images_path+\"/\"+image)]\n",
    "    images_not_in_data = []\n",
    "    data_not_in_images = []\n",
    "    for image in images:\n",
    "        image_data = data[data['filename']==image]\n",
    "        if len(image_data) == 0:\n",
    "            images_not_in_data.append(image)\n",
    "    images_in_data = [image for image in images if (image not in images_not_in_data)]\n",
    "    for filename in data['filename']:\n",
    "        if filename not in os.listdir(images_path):\n",
    "            data_not_in_images.append(filename)\n",
    "    print(\"How many in folder: {}, How many not in data: {}, How many in data: {}, How many data not in images: {}\".format(\n",
    "        len(images),\n",
    "        len(images_not_in_data),\n",
    "        len(images_in_data),\n",
    "        len(data_not_in_images)))\n",
    "    return images, images_in_data, data_not_in_images"
   ]
  },
  {
   "cell_type": "markdown",
   "metadata": {},
   "source": [
    "### Todo: clean data more at startup \n",
    "Noticed a variation in the number of validation photos, coming from 21 missing images and 6 missing data entries."
   ]
  },
  {
   "cell_type": "code",
   "execution_count": 104,
   "metadata": {},
   "outputs": [],
   "source": [
    "def shuffle_images(data,images_path,p):\n",
    "    '''\n",
    "    Shuffle the images (as symbolic links) into training and validation folders.\n",
    "    \n",
    "    Inputs: \n",
    "        - p = percentage split into validation\n",
    "        - data = metadata\n",
    "        - images = list of images\n",
    "        - images_path = location of images\n",
    "        \n",
    "    Warning: there will always be some variability in the number of validation photos, as there are \n",
    "    '''\n",
    "    \n",
    "    categories = data.finding.unique()\n",
    "    delete_cat_folders(images_path,['train', 'valid'])\n",
    "    make_cat_folders(images_path,categories)\n",
    "    \n",
    "    images, images_in_data, data_not_in_images = list_images_in_data(images_path)\n",
    "\n",
    "    valid_nums = random.sample(range(len(images)),int(len(images_in_data)*p))\n",
    "    for image in images_in_data:    \n",
    "        image_data = data[data['filename']==image]\n",
    "        image_index = image_data.index[0]\n",
    "        image_finding = image_data['finding'][image_index]\n",
    "        image_cat = names_to_cat[image_finding]\n",
    "        if image_index in valid_nums:\n",
    "            os.symlink(images_path+\"/\"+image, images_path+\"/valid/\"+image_cat+\"/\"+image)\n",
    "        else:\n",
    "            os.symlink(images_path+\"/\"+image, images_path+\"/train/\"+image_cat+\"/\"+image)\n",
    "    \n",
    "    test(p,images_in_data)"
   ]
  },
  {
   "cell_type": "code",
   "execution_count": 169,
   "metadata": {},
   "outputs": [
    {
     "name": "stdout",
     "output_type": "stream",
     "text": [
      "How many in folder: 357, How many not in data: 6, How many in data: 351, How many data not in images: 21\n",
      "Valid Count: 98, Valid Expected: 0\n",
      "Valid Wrong Cat: []\n",
      "Train Count: 253, Train Expected: 2\n",
      "Train Wrong Cat: []\n",
      "Total Count: 351, Total Expected: 351\n"
     ]
    }
   ],
   "source": [
    "shuffle_images(data,images_path,0.3)"
   ]
  },
  {
   "cell_type": "markdown",
   "metadata": {},
   "source": [
    "Test that we have shuffled property:"
   ]
  },
  {
   "cell_type": "code",
   "execution_count": 63,
   "metadata": {},
   "outputs": [],
   "source": [
    "# count the number of validation photos\n",
    "def test_valid(p):\n",
    "    count, wrong_cat = test_file_count(images_path+\"/valid\")                                \n",
    "    print(\"Valid Count: {}, Valid Expected: {}\".format(count, int(p*len(images_in_data))))\n",
    "    print(\"Valid Wrong Cat: {}\".format(wrong_cat))\n",
    "    return count, wrong_cat\n",
    "    \n",
    "def test_train(p):\n",
    "    count, wrong_cat = test_file_count(images_path+\"/train\")                                \n",
    "    print(\"Train Count: {}, Train Expected: {}\".format(count, int((1-p)*len(images_in_data))))\n",
    "    print(\"Train Wrong Cat: {}\".format(wrong_cat))\n",
    "    return count, wrong_cat\n",
    "    \n",
    "def test_file_count(path):\n",
    "    count = 0\n",
    "    wrong_cat = []\n",
    "    for folder in os.listdir(path):\n",
    "        for image in os.listdir(path+\"/\"+folder):\n",
    "            count += 1\n",
    "            image_data = data[data['filename']==image]\n",
    "            image_index = image_data.index[0]\n",
    "            image_finding = image_data['finding'][image_index]\n",
    "            image_cat = names_to_cat[image_finding]\n",
    "            if image_cat != folder:\n",
    "                wrong_cat.append(folder)\n",
    "    return count, wrong_cat\n",
    "\n",
    "def test(p,images_in_data):\n",
    "    valid_count, valid_wrong_cat = test_valid(p)\n",
    "    train_count, train_wrong_cat = test_train(p)\n",
    "    print(\"Total Count: {}, Total Expected: {}\".format(valid_count+train_count, len(images_in_data)))"
   ]
  },
  {
   "cell_type": "markdown",
   "metadata": {},
   "source": [
    "# Create Model"
   ]
  },
  {
   "cell_type": "code",
   "execution_count": 147,
   "metadata": {},
   "outputs": [],
   "source": [
    "os.symlink(working_path+\"/../train.py\", working_path+\"/train.py\")\n",
    "os.symlink(working_path+\"/../predict.py\", working_path+\"/predict.py\")\n",
    "os.symlink(working_path+\"/../model_functions.py\", working_path+\"/model_functions.py\")"
   ]
  },
  {
   "cell_type": "code",
   "execution_count": 171,
   "metadata": {},
   "outputs": [],
   "source": [
    "from model_functions import *"
   ]
  },
  {
   "cell_type": "code",
   "execution_count": 175,
   "metadata": {},
   "outputs": [],
   "source": [
    "train_data, valid_data, trainloader, validloader = build_loader(images_path)"
   ]
  },
  {
   "cell_type": "code",
   "execution_count": 176,
   "metadata": {},
   "outputs": [],
   "source": [
    "model, criterion, optimizer = build_model(\"alexnet\",0.001,[4096,1024],train_data)"
   ]
  },
  {
   "cell_type": "code",
   "execution_count": 177,
   "metadata": {},
   "outputs": [
    {
     "name": "stdout",
     "output_type": "stream",
     "text": [
      "Epoch 1 starting...\n",
      "Epoch 1\n",
      "Running Loss: 5.791832685470581\n",
      "Validating Accuracy: 0.6764705777168274\n",
      "Validating Loss: 2.0222995281219482\n",
      "Epoch 1\n",
      "Running Loss: 3.1493064165115356\n",
      "Validating Accuracy: 0.6764705777168274\n",
      "Validating Loss: 2.0920863151550293\n",
      "Epoch 2 starting...\n",
      "Epoch 2\n",
      "Running Loss: 1.2701753973960876\n",
      "Validating Accuracy: 0.6764705777168274\n",
      "Validating Loss: 1.8157083988189697\n",
      "Epoch 2\n",
      "Running Loss: 2.37005352973938\n",
      "Validating Accuracy: 0.6764705777168274\n",
      "Validating Loss: 1.925265908241272\n",
      "Epoch 3 starting...\n",
      "Epoch 3\n",
      "Running Loss: 1.3389385342597961\n",
      "Validating Accuracy: 0.6764705777168274\n",
      "Validating Loss: 2.2100186347961426\n",
      "Epoch 3\n",
      "Running Loss: 1.5002155303955078\n",
      "Validating Accuracy: 0.6764705777168274\n",
      "Validating Loss: 1.9272074699401855\n",
      "Epoch 4 starting...\n",
      "Epoch 4\n",
      "Running Loss: 1.1789920330047607\n",
      "Validating Accuracy: 0.6764705777168274\n",
      "Validating Loss: 1.5279607772827148\n",
      "Epoch 4\n",
      "Running Loss: 1.020022690296173\n",
      "Validating Accuracy: 0.6764705777168274\n",
      "Validating Loss: 1.455757975578308\n",
      "Epoch 5 starting...\n",
      "Epoch 5\n",
      "Running Loss: 1.0264487862586975\n",
      "Validating Accuracy: 0.6764705777168274\n",
      "Validating Loss: 1.4062449932098389\n",
      "Epoch 5\n",
      "Running Loss: 1.0304695963859558\n",
      "Validating Accuracy: 0.6764705777168274\n",
      "Validating Loss: 1.3723690509796143\n",
      "Epoch 6 starting...\n",
      "Epoch 6\n",
      "Running Loss: 0.8581901490688324\n",
      "Validating Accuracy: 0.6764705777168274\n",
      "Validating Loss: 1.3651665449142456\n",
      "Epoch 6\n",
      "Running Loss: 1.0189615488052368\n",
      "Validating Accuracy: 0.6764705777168274\n",
      "Validating Loss: 1.4190996885299683\n",
      "Epoch 7 starting...\n",
      "Epoch 7\n",
      "Running Loss: 0.963896781206131\n",
      "Validating Accuracy: 0.6764705777168274\n",
      "Validating Loss: 1.5189059972763062\n",
      "Epoch 7\n",
      "Running Loss: 0.9233699142932892\n",
      "Validating Accuracy: 0.6764705777168274\n",
      "Validating Loss: 1.5225450992584229\n",
      "Epoch 8 starting...\n",
      "Epoch 8\n",
      "Running Loss: 1.0177413821220398\n",
      "Validating Accuracy: 0.6764705777168274\n",
      "Validating Loss: 1.5432002544403076\n",
      "Epoch 8\n",
      "Running Loss: 0.8303211629390717\n",
      "Validating Accuracy: 0.6764705777168274\n",
      "Validating Loss: 1.5560824871063232\n",
      "Epoch 9 starting...\n",
      "Epoch 9\n",
      "Running Loss: 0.7919747531414032\n",
      "Validating Accuracy: 0.6764705777168274\n",
      "Validating Loss: 1.5683993101119995\n",
      "Epoch 9\n",
      "Running Loss: 0.947696328163147\n",
      "Validating Accuracy: 0.6764705777168274\n",
      "Validating Loss: 1.548120379447937\n",
      "Epoch 10 starting...\n",
      "Epoch 10\n",
      "Running Loss: 0.77675661444664\n",
      "Validating Accuracy: 0.6764705777168274\n",
      "Validating Loss: 1.5380913019180298\n",
      "Epoch 10\n",
      "Running Loss: 0.8782211542129517\n",
      "Validating Accuracy: 0.6764705777168274\n",
      "Validating Loss: 1.5503201484680176\n",
      "Epoch 11 starting...\n",
      "Epoch 11\n",
      "Running Loss: 0.8438420593738556\n",
      "Validating Accuracy: 0.6764705777168274\n",
      "Validating Loss: 1.5687510967254639\n",
      "Epoch 11\n",
      "Running Loss: 0.8458935022354126\n",
      "Validating Accuracy: 0.6764705777168274\n",
      "Validating Loss: 1.635892391204834\n",
      "Epoch 12 starting...\n",
      "Epoch 12\n",
      "Running Loss: 0.7233396768569946\n",
      "Validating Accuracy: 0.6764705777168274\n",
      "Validating Loss: 1.6840838193893433\n",
      "Epoch 12\n",
      "Running Loss: 0.9121882021427155\n",
      "Validating Accuracy: 0.6764705777168274\n",
      "Validating Loss: 1.5998221635818481\n",
      "Epoch 13 starting...\n",
      "Epoch 13\n",
      "Running Loss: 0.8582745790481567\n",
      "Validating Accuracy: 0.6764705777168274\n",
      "Validating Loss: 1.558657169342041\n",
      "Epoch 13\n",
      "Running Loss: 0.8670623004436493\n",
      "Validating Accuracy: 0.6764705777168274\n",
      "Validating Loss: 1.5900739431381226\n",
      "Epoch 14 starting...\n",
      "Epoch 14\n",
      "Running Loss: 0.8071848452091217\n",
      "Validating Accuracy: 0.6686580777168274\n",
      "Validating Loss: 1.6662997007369995\n",
      "Epoch 14\n",
      "Running Loss: 0.8332611620426178\n",
      "Validating Accuracy: 0.6764705777168274\n",
      "Validating Loss: 1.6106821298599243\n",
      "Epoch 15 starting...\n",
      "Epoch 15\n",
      "Running Loss: 0.871765524148941\n",
      "Validating Accuracy: 0.6764705777168274\n",
      "Validating Loss: 1.51661217212677\n",
      "Epoch 15\n",
      "Running Loss: 0.8247538805007935\n",
      "Validating Accuracy: 0.6764705777168274\n",
      "Validating Loss: 1.4806616306304932\n",
      "Epoch 16 starting...\n",
      "Epoch 16\n",
      "Running Loss: 0.7534429430961609\n",
      "Validating Accuracy: 0.6764705777168274\n",
      "Validating Loss: 1.5512080192565918\n",
      "Epoch 16\n",
      "Running Loss: 0.8108669817447662\n",
      "Validating Accuracy: 0.6764705777168274\n",
      "Validating Loss: 1.6680684089660645\n",
      "Epoch 17 starting...\n",
      "Epoch 17\n",
      "Running Loss: 0.7523413002490997\n",
      "Validating Accuracy: 0.6764705777168274\n",
      "Validating Loss: 1.676891565322876\n",
      "Epoch 17\n",
      "Running Loss: 0.8318417966365814\n",
      "Validating Accuracy: 0.6764705777168274\n",
      "Validating Loss: 1.589788556098938\n",
      "Epoch 18 starting...\n",
      "Epoch 18\n",
      "Running Loss: 0.6814059615135193\n",
      "Validating Accuracy: 0.6764705777168274\n",
      "Validating Loss: 1.5890047550201416\n",
      "Epoch 18\n",
      "Running Loss: 0.8084880709648132\n",
      "Validating Accuracy: 0.6764705777168274\n",
      "Validating Loss: 1.5774455070495605\n",
      "Epoch 19 starting...\n",
      "Epoch 19\n",
      "Running Loss: 0.6896180808544159\n",
      "Validating Accuracy: 0.6764705777168274\n",
      "Validating Loss: 1.6015517711639404\n",
      "Epoch 19\n",
      "Running Loss: 0.7005428373813629\n",
      "Validating Accuracy: 0.6764705777168274\n",
      "Validating Loss: 1.6410880088806152\n",
      "Epoch 20 starting...\n",
      "Epoch 20\n",
      "Running Loss: 0.6363261640071869\n",
      "Validating Accuracy: 0.6764705777168274\n",
      "Validating Loss: 1.65650475025177\n",
      "Epoch 20\n",
      "Running Loss: 0.7594021856784821\n",
      "Validating Accuracy: 0.6764705777168274\n",
      "Validating Loss: 1.69834303855896\n"
     ]
    }
   ],
   "source": [
    "model, optimizer, train_losses, valid_losses, accuracy_data = train_model(model,criterion,optimizer,trainloader,validloader,20,2,False)"
   ]
  },
  {
   "cell_type": "code",
   "execution_count": 168,
   "metadata": {},
   "outputs": [
    {
     "data": {
      "image/png": "[encoded data removed]",
      "text/plain": [
       "<Figure size 432x288 with 1 Axes>"
      ]
     },
     "metadata": {
      "needs_background": "light"
     },
     "output_type": "display_data"
    }
   ],
   "source": [
    "plot_stats(train_losses, valid_losses)"
   ]
  },
  {
   "cell_type": "code",
   "execution_count": null,
   "metadata": {},
   "outputs": [],
   "source": []
  }
 ],
 "metadata": {
  "kernelspec": {
   "display_name": "Python 3",
   "language": "python",
   "name": "python3"
  },
  "language_info": {
   "codemirror_mode": {
    "name": "ipython",
    "version": 3
   },
   "file_extension": ".py",
   "mimetype": "text/x-python",
   "name": "python",
   "nbconvert_exporter": "python",
   "pygments_lexer": "ipython3",
   "version": "3.6.9"
  }
 },
 "nbformat": 4,
 "nbformat_minor": 4
}
