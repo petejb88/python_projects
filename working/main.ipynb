{
 "cells": [
  {
   "cell_type": "code",
   "execution_count": 6,
   "metadata": {},
   "outputs": [],
   "source": [
    "import pandas as pd\n",
    "\n",
    "import os\n",
    "import inspect\n",
    "import random\n",
    "import shutil\n",
    "\n",
    "import json"
   ]
  },
  {
   "cell_type": "code",
   "execution_count": 13,
   "metadata": {},
   "outputs": [
    {
     "name": "stdout",
     "output_type": "stream",
     "text": [
      "/home/petejb88/mlenv/transfer-learning-image-classifier/working/../input/covid-chest-xray/images\n"
     ]
    }
   ],
   "source": [
    "this_filename = inspect.getframeinfo(inspect.currentframe()).filename\n",
    "path = os.path.dirname(os.path.abspath(this_filename))\n",
    "data_path = path+\"/../input/covid-chest-xray\"\n",
    "images_path = data_path+\"/images\"\n",
    "data = pd.read_csv(data_path+\"/metadata.csv\")\n",
    "print(images_path)"
   ]
  },
  {
   "cell_type": "code",
   "execution_count": 93,
   "metadata": {},
   "outputs": [
    {
     "name": "stdout",
     "output_type": "stream",
     "text": [
      "     patientid  offset sex   age   finding survival intubated  \\\n",
      "0            2     0.0   M  65.0  COVID-19        Y       NaN   \n",
      "1            2     3.0   M  65.0  COVID-19        Y       NaN   \n",
      "2            2     5.0   M  65.0  COVID-19        Y       NaN   \n",
      "3            2     6.0   M  65.0  COVID-19        Y       NaN   \n",
      "4            4     0.0   F  52.0  COVID-19      NaN       NaN   \n",
      "..         ...     ...  ..   ...       ...      ...       ...   \n",
      "367        205    11.0   M  55.0  COVID-19        Y       NaN   \n",
      "368        205    13.0   M  55.0  COVID-19        Y       NaN   \n",
      "369        205    20.0   M  55.0  COVID-19        Y       NaN   \n",
      "370        205    24.0   M  55.0  COVID-19        Y       NaN   \n",
      "371        205    28.0   M  55.0  COVID-19        Y       NaN   \n",
      "\n",
      "    intubation_present went_icu in_icu  ...              date  \\\n",
      "0                  NaN      NaN    NaN  ...  January 22, 2020   \n",
      "1                  NaN      NaN    NaN  ...  January 25, 2020   \n",
      "2                  NaN      NaN    NaN  ...  January 27, 2020   \n",
      "3                  NaN      NaN    NaN  ...  January 28, 2020   \n",
      "4                  NaN      NaN    NaN  ...  January 25, 2020   \n",
      "..                 ...      ...    ...  ...               ...   \n",
      "367                  Y        Y      Y  ...               NaN   \n",
      "368                  Y        Y      Y  ...               NaN   \n",
      "369                  Y        Y      Y  ...               NaN   \n",
      "370                  N        Y      Y  ...               NaN   \n",
      "371                  N        Y      N  ...               NaN   \n",
      "\n",
      "                                              location  folder  \\\n",
      "0          Cho Ray Hospital, Ho Chi Minh City, Vietnam  images   \n",
      "1          Cho Ray Hospital, Ho Chi Minh City, Vietnam  images   \n",
      "2          Cho Ray Hospital, Ho Chi Minh City, Vietnam  images   \n",
      "3          Cho Ray Hospital, Ho Chi Minh City, Vietnam  images   \n",
      "4    Changhua Christian Hospital, Changhua City, Ta...  images   \n",
      "..                                                 ...     ...   \n",
      "367                               North Derbyshire, UK  images   \n",
      "368                               North Derbyshire, UK  images   \n",
      "369                               North Derbyshire, UK  images   \n",
      "370                               North Derbyshire, UK  images   \n",
      "371                               North Derbyshire, UK  images   \n",
      "\n",
      "                                              filename                   doi  \\\n",
      "0    auntminnie-a-2020_01_28_23_51_6665_2020_01_28_...  10.1056/nejmc2001272   \n",
      "1    auntminnie-b-2020_01_28_23_51_6665_2020_01_28_...  10.1056/nejmc2001272   \n",
      "2    auntminnie-c-2020_01_28_23_51_6665_2020_01_28_...  10.1056/nejmc2001272   \n",
      "3    auntminnie-d-2020_01_28_23_51_6665_2020_01_28_...  10.1056/nejmc2001272   \n",
      "4                                nejmc2001573_f1a.jpeg  10.1056/NEJMc2001573   \n",
      "..                                                 ...                   ...   \n",
      "367  covid-19-pneumonia-progression-and-regression-...                   NaN   \n",
      "368  covid-19-pneumonia-progression-and-regression-...                   NaN   \n",
      "369  covid-19-pneumonia-progression-and-regression-...                   NaN   \n",
      "370  covid-19-pneumonia-progression-and-regression-...                   NaN   \n",
      "371  covid-19-pneumonia-progression-and-regression-...                   NaN   \n",
      "\n",
      "                                                   url      license  \\\n",
      "0    https://www.nejm.org/doi/full/10.1056/NEJMc200...          NaN   \n",
      "1    https://www.nejm.org/doi/full/10.1056/NEJMc200...          NaN   \n",
      "2    https://www.nejm.org/doi/full/10.1056/NEJMc200...          NaN   \n",
      "3    https://www.nejm.org/doi/full/10.1056/NEJMc200...          NaN   \n",
      "4    https://www.nejm.org/doi/full/10.1056/NEJMc200...          NaN   \n",
      "..                                                 ...          ...   \n",
      "367  https://radiopaedia.org/cases/covid-19-pneumon...  CC BY-NC-SA   \n",
      "368  https://radiopaedia.org/cases/covid-19-pneumon...  CC BY-NC-SA   \n",
      "369  https://radiopaedia.org/cases/covid-19-pneumon...  CC BY-NC-SA   \n",
      "370  https://radiopaedia.org/cases/covid-19-pneumon...  CC BY-NC-SA   \n",
      "371  https://radiopaedia.org/cases/covid-19-pneumon...  CC BY-NC-SA   \n",
      "\n",
      "                                        clinical_notes  \\\n",
      "0    On January 22, 2020, a 65-year-old man with a ...   \n",
      "1    On January 22, 2020, a 65-year-old man with a ...   \n",
      "2    On January 22, 2020, a 65-year-old man with a ...   \n",
      "3    On January 22, 2020, a 65-year-old man with a ...   \n",
      "4     diffuse infiltrates in the bilateral lower lungs   \n",
      "..                                                 ...   \n",
      "367  ITU admission, Endotracheal tube, nasogastric ...   \n",
      "368  Lines and tubes suitably sited.  Minor regress...   \n",
      "369  increasing oxygen requirements. Extubated.  Po...   \n",
      "370  Extubated since the prior radiograph.  Partial...   \n",
      "371  Remarkable improvement in appearances since th...   \n",
      "\n",
      "                                           other_notes Unnamed: 28  \n",
      "0                                                  NaN         NaN  \n",
      "1                                                  NaN         NaN  \n",
      "2                                                  NaN         NaN  \n",
      "3                                                  NaN         NaN  \n",
      "4                                                  NaN         NaN  \n",
      "..                                                 ...         ...  \n",
      "367  Case courtesy of Dr Ian Bickle, Radiopaedia.or...         NaN  \n",
      "368  Case courtesy of Dr Ian Bickle, Radiopaedia.or...         NaN  \n",
      "369  Case courtesy of Dr Ian Bickle, Radiopaedia.or...         NaN  \n",
      "370  Case courtesy of Dr Ian Bickle, Radiopaedia.or...         NaN  \n",
      "371  Case courtesy of Dr Ian Bickle, Radiopaedia.or...         NaN  \n",
      "\n",
      "[372 rows x 29 columns]\n"
     ]
    }
   ],
   "source": [
    "print(data)"
   ]
  },
  {
   "cell_type": "code",
   "execution_count": 4,
   "metadata": {},
   "outputs": [
    {
     "name": "stdout",
     "output_type": "stream",
     "text": [
      "['COVID-19' 'ARDS' 'SARS' 'Pneumocystis' 'Streptococcus' 'No Finding'\n",
      " 'Chlamydophila' 'E.Coli' 'COVID-19, ARDS' 'Klebsiella' 'Legionella']\n"
     ]
    }
   ],
   "source": [
    "categories = data.finding.unique()\n",
    "print(categories)"
   ]
  },
  {
   "cell_type": "markdown",
   "metadata": {},
   "source": [
    "Create train, valid, and category FOLDERS"
   ]
  },
  {
   "cell_type": "code",
   "execution_count": 14,
   "metadata": {},
   "outputs": [],
   "source": [
    "new_folders = ['train', 'valid']\n",
    "\n",
    "def delete_cat_folders(images_path,new_folders):\n",
    "    for folder in new_folders:\n",
    "        try:\n",
    "            shutil.rmtree(images_path+\"/\"+folder)\n",
    "        except:\n",
    "            print(\"Folder {} doesn't exist!\".format(folder))\n",
    "    \n",
    "def make_cat_folders(images_path,categories):\n",
    "    for folder in new_folders:\n",
    "        try:\n",
    "            os.mkdir(images_path+\"/\"+folder)\n",
    "        except:\n",
    "            print('Folder {} already exists!'.format(folder))\n",
    "        for i, cat in enumerate(categories):\n",
    "            try:\n",
    "                os.mkdir(images_path+\"/\"+folder+\"/\"+str(i))\n",
    "            except:\n",
    "                print(\"Folder {}/{} already exists!\".format(folder,cat))\n",
    "                \n",
    "def make_cat_dicts(images_path,categories):\n",
    "    cat_to_names = {}\n",
    "    names_to_cat = {}\n",
    "    for i,cat in enumerate(categories):\n",
    "            cat_to_names[str(i)] = cat\n",
    "            names_to_cat[cat] = str(i)\n",
    "    \n",
    "    json_object = json.dumps(cat_to_names, indent = 4)\n",
    "    with open(data_path+\"/cat_to_names.json\", \"w\") as outfile:\n",
    "        outfile.write(json_object)\n",
    "        \n",
    "    return cat_to_names, names_to_cat\n",
    "            \n",
    "\n"
   ]
  },
  {
   "cell_type": "code",
   "execution_count": 12,
   "metadata": {},
   "outputs": [],
   "source": [
    "cat_to_names, names_to_cat = make_cat_dicts(images_path,categories)"
   ]
  },
  {
   "cell_type": "markdown",
   "metadata": {},
   "source": [
    "# Shuffle Images\n",
    "Now, we shuffle the images into these folders, while classifying them as we go"
   ]
  },
  {
   "cell_type": "markdown",
   "metadata": {},
   "source": [
    "First, we check to see if any images are missing: (qualitative)"
   ]
  },
  {
   "cell_type": "code",
   "execution_count": 16,
   "metadata": {},
   "outputs": [],
   "source": [
    "def check_missing(data,images_path):\n",
    "    not_in_data = []\n",
    "    in_data = []\n",
    "    for file in os.listdir(images_path):\n",
    "        if os.path.isfile(images_path+\"/\"+file):\n",
    "            file_data = data[data['filename'] == file]\n",
    "            if len(file_data) == 0:\n",
    "                not_in_data.append(file)\n",
    "            else:\n",
    "                in_data.append(file)\n",
    "\n",
    "    return not_in_data, in_data"
   ]
  },
  {
   "cell_type": "code",
   "execution_count": 100,
   "metadata": {},
   "outputs": [],
   "source": [
    "def list_images_in_data(images_path):\n",
    "    images = [image for image in os.listdir(images_path) if os.path.isfile(images_path+\"/\"+image)]\n",
    "    images_not_in_data = []\n",
    "    data_not_in_images = []\n",
    "    for image in images:\n",
    "        image_data = data[data['filename']==image]\n",
    "        if len(image_data) == 0:\n",
    "            images_not_in_data.append(image)\n",
    "    images_in_data = [image for image in images if (image not in images_not_in_data)]\n",
    "    for filename in data['filename']:\n",
    "        if filename not in os.listdir(images_path):\n",
    "            data_not_in_images.append(filename)\n",
    "    print(\"How many in folder: {}, How many not in data: {}, How many in data: {}, How many data not in images: {}\".format(\n",
    "        len(images),\n",
    "        len(images_not_in_data),\n",
    "        len(images_in_data),\n",
    "        len(data_not_in_images)))\n",
    "    return images, images_in_data, data_not_in_images"
   ]
  },
  {
   "cell_type": "markdown",
   "metadata": {},
   "source": [
    "### Todo: clean data more at startup \n",
    "Noticed a variation in the number of validation photos, coming from 21 missing images and 6 missing data entries."
   ]
  },
  {
   "cell_type": "code",
   "execution_count": 104,
   "metadata": {},
   "outputs": [],
   "source": [
    "def shuffle_images(data,images_path,p):\n",
    "    '''\n",
    "    Shuffle the images (as symbolic links) into training and validation folders.\n",
    "    \n",
    "    Inputs: \n",
    "        - p = percentage split into validation\n",
    "        - data = metadata\n",
    "        - images = list of images\n",
    "        - images_path = location of images\n",
    "        \n",
    "    Warning: there will always be some variability in the number of validation photos, as there are \n",
    "    '''\n",
    "    \n",
    "    categories = data.finding.unique()\n",
    "    delete_cat_folders(images_path,['train', 'valid'])\n",
    "    make_cat_folders(images_path,categories)\n",
    "    \n",
    "    images, images_in_data, data_not_in_images = list_images_in_data(images_path)\n",
    "\n",
    "    valid_nums = random.sample(range(len(images)),int(len(images_in_data)*p))\n",
    "    for image in images_in_data:    \n",
    "        image_data = data[data['filename']==image]\n",
    "        image_index = image_data.index[0]\n",
    "        image_finding = image_data['finding'][image_index]\n",
    "        image_cat = names_to_cat[image_finding]\n",
    "        if image_index in valid_nums:\n",
    "            os.symlink(images_path+\"/\"+image, images_path+\"/valid/\"+image_cat+\"/\"+image)\n",
    "        else:\n",
    "            os.symlink(images_path+\"/\"+image, images_path+\"/train/\"+image_cat+\"/\"+image)\n",
    "    \n",
    "    test(p,images_in_data)"
   ]
  },
  {
   "cell_type": "code",
   "execution_count": 105,
   "metadata": {},
   "outputs": [
    {
     "name": "stdout",
     "output_type": "stream",
     "text": [
      "How many in folder: 357, How many not in data: 6, How many in data: 351, How many data not in images: 21\n",
      "Valid Count: 103, Valid Expected: 0\n",
      "Valid Wrong Cat: []\n",
      "Train Count: 248, Train Expected: 2\n",
      "Train Wrong Cat: []\n",
      "Total Count: 351, Total Expected: 351\n"
     ]
    }
   ],
   "source": [
    "shuffle_images(data,images_path,0.3)"
   ]
  },
  {
   "cell_type": "markdown",
   "metadata": {},
   "source": [
    "Test that we have shuffled property:"
   ]
  },
  {
   "cell_type": "code",
   "execution_count": 63,
   "metadata": {},
   "outputs": [],
   "source": [
    "# count the number of validation photos\n",
    "def test_valid(p):\n",
    "    count, wrong_cat = test_file_count(images_path+\"/valid\")                                \n",
    "    print(\"Valid Count: {}, Valid Expected: {}\".format(count, int(p*len(images_in_data))))\n",
    "    print(\"Valid Wrong Cat: {}\".format(wrong_cat))\n",
    "    return count, wrong_cat\n",
    "    \n",
    "def test_train(p):\n",
    "    count, wrong_cat = test_file_count(images_path+\"/train\")                                \n",
    "    print(\"Train Count: {}, Train Expected: {}\".format(count, int((1-p)*len(images_in_data))))\n",
    "    print(\"Train Wrong Cat: {}\".format(wrong_cat))\n",
    "    return count, wrong_cat\n",
    "    \n",
    "def test_file_count(path):\n",
    "    count = 0\n",
    "    wrong_cat = []\n",
    "    for folder in os.listdir(path):\n",
    "        for image in os.listdir(path+\"/\"+folder):\n",
    "            count += 1\n",
    "            image_data = data[data['filename']==image]\n",
    "            image_index = image_data.index[0]\n",
    "            image_finding = image_data['finding'][image_index]\n",
    "            image_cat = names_to_cat[image_finding]\n",
    "            if image_cat != folder:\n",
    "                wrong_cat.append(folder)\n",
    "    return count, wrong_cat\n",
    "\n",
    "def test(p,images_in_data):\n",
    "    valid_count, valid_wrong_cat = test_valid(p)\n",
    "    train_count, train_wrong_cat = test_train(p)\n",
    "    print(\"Total Count: {}, Total Expected: {}\".format(valid_count+train_count, len(images_in_data)))"
   ]
  },
  {
   "cell_type": "markdown",
   "metadata": {},
   "source": [
    "# Create Model"
   ]
  },
  {
   "cell_type": "code",
   "execution_count": null,
   "metadata": {},
   "outputs": [],
   "source": []
  }
 ],
 "metadata": {
  "kernelspec": {
   "display_name": "Python 3",
   "language": "python",
   "name": "python3"
  },
  "language_info": {
   "codemirror_mode": {
    "name": "ipython",
    "version": 3
   },
   "file_extension": ".py",
   "mimetype": "text/x-python",
   "name": "python",
   "nbconvert_exporter": "python",
   "pygments_lexer": "ipython3",
   "version": "3.6.9"
  }
 },
 "nbformat": 4,
 "nbformat_minor": 4
}
