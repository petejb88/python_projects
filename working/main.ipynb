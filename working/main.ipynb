{
 "cells": [
  {
   "cell_type": "code",
   "execution_count": 1,
   "metadata": {},
   "outputs": [],
   "source": [
    "import matplotlib.pyplot as plt\n",
    "%matplotlib inline \n",
    "\n",
    "import pandas as pd\n",
    "\n",
    "import os\n",
    "import inspect\n",
    "import random\n",
    "import shutil\n",
    "\n",
    "import json"
   ]
  },
  {
   "cell_type": "code",
   "execution_count": 2,
   "metadata": {},
   "outputs": [
    {
     "name": "stdout",
     "output_type": "stream",
     "text": [
      "/home/petejb88/mlenv/transfer-learning-image-classifier/working/../input/covid-chest-xray/images\n"
     ]
    }
   ],
   "source": [
    "this_filename = inspect.getframeinfo(inspect.currentframe()).filename\n",
    "working_path = os.path.dirname(os.path.abspath(this_filename))\n",
    "data_path = working_path+\"/../input/covid-chest-xray\"\n",
    "images_path = data_path+\"/images\"\n",
    "data = pd.read_csv(data_path+\"/metadata.csv\")\n",
    "print(images_path)"
   ]
  },
  {
   "cell_type": "code",
   "execution_count": null,
   "metadata": {},
   "outputs": [],
   "source": [
    "data['finding'].value_counts()"
   ]
  },
  {
   "cell_type": "code",
   "execution_count": 3,
   "metadata": {},
   "outputs": [],
   "source": [
    "data['is_covid'] = [str(data['finding'][index] == 'COVID-19') for index in data.index]"
   ]
  },
  {
   "cell_type": "markdown",
   "metadata": {},
   "source": [
    "Create train, valid, and category FOLDERS"
   ]
  },
  {
   "cell_type": "code",
   "execution_count": 4,
   "metadata": {},
   "outputs": [],
   "source": [
    "# new_folders = ['train', 'valid']\n",
    "\n",
    "def delete_cat_folders(images_path,new_folders):\n",
    "    for folder in new_folders:\n",
    "        try:\n",
    "            shutil.rmtree(images_path+\"/\"+folder)\n",
    "            print(\"Folder {} deleted\".format(folder))\n",
    "        except:\n",
    "            print(\"Folder {} doesn't exist!\".format(folder))\n",
    "    \n",
    "def make_cat_folders(images_path,new_folders,names,name_to_cat):\n",
    "    for folder in new_folders:\n",
    "        try:\n",
    "            os.mkdir(images_path+\"/\"+folder)\n",
    "            print(\"Folder {} created\".format(folder))\n",
    "        except:\n",
    "            print('Folder {} already exists!'.format(folder))\n",
    "        for name in names:\n",
    "            try:\n",
    "                os.mkdir(images_path+\"/\"+folder+\"/\"+name_to_cat[name])\n",
    "                print(\"Folder {}/{} created\".format(folder,name_to_cat[name]))\n",
    "            except:\n",
    "                print(\"Folder {}/{} already exists!\".format(folder,name_to_cat[name]))\n",
    "                \n",
    "def make_cat_dicts(images_path,names):\n",
    "    cat_to_name = {}\n",
    "    name_to_cat = {}\n",
    "    names.sort()\n",
    "    for i,name in enumerate(names):\n",
    "            cat_to_name[str(i)] = name\n",
    "            name_to_cat[name] = str(i)\n",
    "    \n",
    "    json_object = json.dumps(cat_to_name, indent = 4)\n",
    "    with open(data_path+\"/cat_to_name.json\", \"w\") as outfile:\n",
    "        outfile.write(json_object)\n",
    "        \n",
    "    print(\"cat_to_name, name_to_cat created!\")    \n",
    "    print(name_to_cat)\n",
    "    return cat_to_name, name_to_cat\n",
    "            \n",
    "\n"
   ]
  },
  {
   "cell_type": "markdown",
   "metadata": {},
   "source": [
    "# Shuffle Images\n",
    "Now, we shuffle the images into these folders, while classifying them as we go"
   ]
  },
  {
   "cell_type": "markdown",
   "metadata": {},
   "source": [
    "First, we check to see if any images are missing: (qualitative)"
   ]
  },
  {
   "cell_type": "code",
   "execution_count": 5,
   "metadata": {},
   "outputs": [],
   "source": [
    "def check_missing(data,images_path):\n",
    "    not_in_data = []\n",
    "    in_data = []\n",
    "    for file in os.listdir(images_path):\n",
    "        if os.path.isfile(images_path+\"/\"+file):\n",
    "            file_data = data[data['filename'] == file]\n",
    "            if len(file_data) == 0:\n",
    "                not_in_data.append(file)\n",
    "            else:\n",
    "                in_data.append(file)\n",
    "\n",
    "    return not_in_data, in_data"
   ]
  },
  {
   "cell_type": "code",
   "execution_count": 6,
   "metadata": {},
   "outputs": [],
   "source": [
    "def list_images_in_data(images_path):\n",
    "    images = [image for image in os.listdir(images_path) if os.path.isfile(images_path+\"/\"+image)]\n",
    "    images_not_in_data = []\n",
    "    data_not_in_images = []\n",
    "    for image in images:\n",
    "        image_data = data[data['filename']==image]\n",
    "        if len(image_data) == 0:\n",
    "            images_not_in_data.append(image)\n",
    "    images_in_data = [image for image in images if (image not in images_not_in_data)]\n",
    "    for filename in data['filename']:\n",
    "        if filename not in os.listdir(images_path):\n",
    "            data_not_in_images.append(filename)\n",
    "    print(\"How many in folder: {}, How many not in data: {}, How many in data: {}, How many data not in images: {}\".format(\n",
    "        len(images),\n",
    "        len(images_not_in_data),\n",
    "        len(images_in_data),\n",
    "        len(data_not_in_images)))\n",
    "    return images, images_in_data, data_not_in_images"
   ]
  },
  {
   "cell_type": "markdown",
   "metadata": {},
   "source": [
    "### Todo: clean data more at startup \n",
    "Noticed a variation in the number of validation photos, coming from 21 missing images and 6 missing data entries."
   ]
  },
  {
   "cell_type": "markdown",
   "metadata": {},
   "source": [
    "Test that we have shuffled property:"
   ]
  },
  {
   "cell_type": "code",
   "execution_count": 7,
   "metadata": {},
   "outputs": [],
   "source": [
    "def test_folder(p,images_in_data,column,name_to_cat,folder):\n",
    "    count = 0\n",
    "    wrong_cat = []\n",
    "    for subfolder in os.listdir(images_path+\"/\"+folder):\n",
    "        for image in os.listdir(images_path+\"/\"+folder+\"/\"+subfolder):\n",
    "            count += 1\n",
    "            image_data = data[data['filename']==image]\n",
    "            image_index = image_data.index[0]\n",
    "            image_column = image_data[column][image_index]\n",
    "            image_cat = name_to_cat[image_column]\n",
    "            if image_cat != subfolder:\n",
    "                wrong_cat.append(image)\n",
    "    return count, wrong_cat\n",
    "\n",
    "def test(p,images_in_data,column,name_to_cat,new_folders):\n",
    "    count = []\n",
    "    wrong_cat = []\n",
    "    for i,folder in enumerate(new_folders):\n",
    "        count.append(test_folder(p,images_in_data,column,name_to_cat,folder)[0])\n",
    "        wrong_cat.append(test_folder(p,images_in_data,column,name_to_cat,folder)[1])\n",
    "    print(\"Valid Count: {}, Valid Expected: {}\".format(count[1], int((p*len(images_in_data)))))\n",
    "    print(\"Train Count: {}, Train Expected: {}\".format(count[0], int((1-p)*len(images_in_data))))\n",
    "    print(\"Total Count: {}, Total Expected: {}\".format(sum(count), len(images_in_data)))\n",
    "    print(\"Valid Wrong Cat: {}\".format(wrong_cat[1]))\n",
    "    print(\"Train Wrong Cat: {}\".format(wrong_cat[0]))"
   ]
  },
  {
   "cell_type": "code",
   "execution_count": 8,
   "metadata": {},
   "outputs": [],
   "source": [
    "def shuffle_images(data,images_path,p,column='finding'):\n",
    "    '''\n",
    "    Shuffle the images (as symbolic links) into training and validation folders.\n",
    "    \n",
    "    Inputs: \n",
    "        - p = percentage split into validation\n",
    "        - data = metadata\n",
    "        - images = list of images\n",
    "        - images_path = location of images\n",
    "        \n",
    "    Warning: there will always be some variability in the number of validation photos, as there are \n",
    "    '''\n",
    "    \n",
    "    names = data[column].unique()\n",
    "    \n",
    "    cat_to_name, name_to_cat = make_cat_dicts(images_path,names)\n",
    "    delete_cat_folders(images_path,['train', 'valid'])\n",
    "    make_cat_folders(images_path,['train', 'valid'], names,name_to_cat)\n",
    "    \n",
    "    images, images_in_data, data_not_in_images = list_images_in_data(images_path)\n",
    "\n",
    "    valid_nums = random.sample(range(len(images)),int(len(images_in_data)*p))\n",
    "    for image in images_in_data:    \n",
    "        image_data = data[data['filename']==image]\n",
    "        image_index = image_data.index[0]\n",
    "        image_column = image_data[column][image_index]\n",
    "        image_cat = name_to_cat[image_column]\n",
    "        if image_index in valid_nums:\n",
    "            os.symlink(images_path+\"/\"+image, images_path+\"/valid/\"+image_cat+\"/\"+image)\n",
    "        else:\n",
    "            os.symlink(images_path+\"/\"+image, images_path+\"/train/\"+image_cat+\"/\"+image)\n",
    "    \n",
    "    test(p,images_in_data,column,name_to_cat,['train','valid'])"
   ]
  },
  {
   "cell_type": "code",
   "execution_count": null,
   "metadata": {},
   "outputs": [],
   "source": [
    "shuffle_images(data,images_path,0.2,'is_covid')"
   ]
  },
  {
   "cell_type": "markdown",
   "metadata": {},
   "source": [
    "# Create Model"
   ]
  },
  {
   "cell_type": "code",
   "execution_count": null,
   "metadata": {},
   "outputs": [],
   "source": [
    "os.symlink(working_path+\"/../train.py\", working_path+\"/train.py\")\n",
    "os.symlink(working_path+\"/../predict.py\", working_path+\"/predict.py\")\n",
    "os.symlink(working_path+\"/../model_functions.py\", working_path+\"/model_functions.py\")\n",
    "os.symlink(working_path+\"/../predict_functions.py\", working_path+\"/predict_functions.py\")"
   ]
  },
  {
   "cell_type": "code",
   "execution_count": null,
   "metadata": {},
   "outputs": [],
   "source": [
    "os.symlink(working_path+\"/../predict_functions.py\", working_path+\"/temp.py\")\n",
    "os.rename(working_path+\"/temp.py\", working_path+\"/predict_functions.py\")"
   ]
  },
  {
   "cell_type": "code",
   "execution_count": 9,
   "metadata": {},
   "outputs": [],
   "source": [
    "from model_functions import *\n",
    "from predict_functions import *"
   ]
  },
  {
   "cell_type": "code",
   "execution_count": null,
   "metadata": {},
   "outputs": [],
   "source": [
    "import importlib,sys\n",
    "importlib.reload(sys.modules['model_functions'])\n",
    "importlib.reload(sys.modules['predict_functions'])"
   ]
  },
  {
   "cell_type": "code",
   "execution_count": null,
   "metadata": {},
   "outputs": [],
   "source": [
    "train_data, valid_data, trainloader, validloader = build_loader(images_path,16)"
   ]
  },
  {
   "cell_type": "code",
   "execution_count": null,
   "metadata": {},
   "outputs": [],
   "source": [
    "model, criterion, optimizer = build_model(\"alexnet\",0.01,[1024,1024],train_data)"
   ]
  },
  {
   "cell_type": "code",
   "execution_count": null,
   "metadata": {},
   "outputs": [],
   "source": [
    "model, optimizer, train_losses, valid_losses, accuracy_data = train_model(model,criterion,optimizer,trainloader,validloader,6,5,False)"
   ]
  },
  {
   "cell_type": "code",
   "execution_count": null,
   "metadata": {},
   "outputs": [],
   "source": [
    "plot_stats(train_losses, valid_losses)"
   ]
  },
  {
   "cell_type": "code",
   "execution_count": null,
   "metadata": {},
   "outputs": [],
   "source": [
    "len(valid_losses) == len(train_losses)"
   ]
  },
  {
   "cell_type": "code",
   "execution_count": null,
   "metadata": {},
   "outputs": [],
   "source": [
    "n = 2\n",
    "plt.plot(range(n,len(train_losses)), train_losses[n:], label=\"train losses\")\n",
    "plt.plot(range(n,len(train_losses)), valid_losses[n:], label=\"valid losses\")"
   ]
  },
  {
   "cell_type": "code",
   "execution_count": null,
   "metadata": {},
   "outputs": [],
   "source": [
    "create_checkpoint(model,optimizer,\"alexnet\",0.01,6,working_path)"
   ]
  },
  {
   "cell_type": "code",
   "execution_count": 35,
   "metadata": {},
   "outputs": [
    {
     "name": "stdout",
     "output_type": "stream",
     "text": [
      "cat_to_name, name_to_cat created!\n",
      "{'False': '0', 'True': '1'}\n",
      "How many in folder: 357, How many not in data: 6, How many in data: 351, How many data not in images: 21\n",
      "Accuracy: 0.48717948717948717\n",
      "Predicted Covid: 191, Actual Covid: 275\n"
     ]
    }
   ],
   "source": [
    "accuracy = 0\n",
    "column=\"is_covid\"\n",
    "cat_to_name, name_to_cat = make_cat_dicts(images_path,data[column].unique())\n",
    "images, images_in_data, data_not_in_images = list_images_in_data(images_path)\n",
    "predicted_covid = 0\n",
    "actual_covid = 0\n",
    "for image in images_in_data:\n",
    "    image_data = data[data['filename']==image]\n",
    "    image_index = image_data.index[0]\n",
    "    image_column = image_data[column][image_index]\n",
    "    image_cat = name_to_cat[image_column]\n",
    "\n",
    "    top_prob, top_class = predict(images_path+\"/\"+image,model,1,False)       \n",
    "    accuracy += (top_class[0] == image_cat) \n",
    "    if top_class[0] == \"1\":\n",
    "        predicted_covid += 1\n",
    "    if image_cat == \"1\":\n",
    "        actual_covid += 1\n",
    "print(\"Accuracy: {}\".format(accuracy / len(images_in_data)))\n",
    "print(\"Predicted Covid: {}, Actual Covid: {}\".format(predicted_covid,actual_covid))"
   ]
  },
  {
   "cell_type": "code",
   "execution_count": 10,
   "metadata": {},
   "outputs": [
    {
     "name": "stdout",
     "output_type": "stream",
     "text": [
      "Checkpoint loaded\n",
      "Model created\n"
     ]
    }
   ],
   "source": [
    "model = load_checkpoint(working_path+\"/../workingcheckpoint.pth\")"
   ]
  },
  {
   "cell_type": "code",
   "execution_count": 31,
   "metadata": {},
   "outputs": [
    {
     "name": "stdout",
     "output_type": "stream",
     "text": [
      "[0.9114857316017151] ['1']\n",
      "1\n",
      "True\n",
      "Object: True, Probability: 0.9114857316017151\n"
     ]
    },
    {
     "data": {
      "text/html": [
       "<div>\n",
       "<style scoped>\n",
       "    .dataframe tbody tr th:only-of-type {\n",
       "        vertical-align: middle;\n",
       "    }\n",
       "\n",
       "    .dataframe tbody tr th {\n",
       "        vertical-align: top;\n",
       "    }\n",
       "\n",
       "    .dataframe thead th {\n",
       "        text-align: right;\n",
       "    }\n",
       "</style>\n",
       "<table border=\"1\" class=\"dataframe\">\n",
       "  <thead>\n",
       "    <tr style=\"text-align: right;\">\n",
       "      <th></th>\n",
       "      <th>patientid</th>\n",
       "      <th>offset</th>\n",
       "      <th>sex</th>\n",
       "      <th>age</th>\n",
       "      <th>finding</th>\n",
       "      <th>survival</th>\n",
       "      <th>intubated</th>\n",
       "      <th>intubation_present</th>\n",
       "      <th>went_icu</th>\n",
       "      <th>in_icu</th>\n",
       "      <th>...</th>\n",
       "      <th>location</th>\n",
       "      <th>folder</th>\n",
       "      <th>filename</th>\n",
       "      <th>doi</th>\n",
       "      <th>url</th>\n",
       "      <th>license</th>\n",
       "      <th>clinical_notes</th>\n",
       "      <th>other_notes</th>\n",
       "      <th>Unnamed: 28</th>\n",
       "      <th>is_covid</th>\n",
       "    </tr>\n",
       "  </thead>\n",
       "  <tbody>\n",
       "    <tr>\n",
       "      <th>96</th>\n",
       "      <td>46</td>\n",
       "      <td>5.0</td>\n",
       "      <td>F</td>\n",
       "      <td>55.0</td>\n",
       "      <td>COVID-19</td>\n",
       "      <td>NaN</td>\n",
       "      <td>NaN</td>\n",
       "      <td>NaN</td>\n",
       "      <td>NaN</td>\n",
       "      <td>NaN</td>\n",
       "      <td>...</td>\n",
       "      <td>Italy</td>\n",
       "      <td>images</td>\n",
       "      <td>01E392EE-69F9-4E33-BFCE-E5C968654078.jpeg</td>\n",
       "      <td>NaN</td>\n",
       "      <td>https://www.sirm.org/2020/03/10/covid-19-caso-26/</td>\n",
       "      <td>NaN</td>\n",
       "      <td>Woman, 55 years old, reports dyspnea for a few...</td>\n",
       "      <td>Credit to Izzo Andrea, D'Aversa Lucia, Ceremon...</td>\n",
       "      <td>NaN</td>\n",
       "      <td>True</td>\n",
       "    </tr>\n",
       "  </tbody>\n",
       "</table>\n",
       "<p>1 rows × 30 columns</p>\n",
       "</div>"
      ],
      "text/plain": [
       "    patientid  offset sex   age   finding survival intubated  \\\n",
       "96         46     5.0   F  55.0  COVID-19      NaN       NaN   \n",
       "\n",
       "   intubation_present went_icu in_icu  ... location  folder  \\\n",
       "96                NaN      NaN    NaN  ...    Italy  images   \n",
       "\n",
       "                                     filename  doi  \\\n",
       "96  01E392EE-69F9-4E33-BFCE-E5C968654078.jpeg  NaN   \n",
       "\n",
       "                                                  url  license  \\\n",
       "96  https://www.sirm.org/2020/03/10/covid-19-caso-26/      NaN   \n",
       "\n",
       "                                       clinical_notes  \\\n",
       "96  Woman, 55 years old, reports dyspnea for a few...   \n",
       "\n",
       "                                          other_notes Unnamed: 28 is_covid  \n",
       "96  Credit to Izzo Andrea, D'Aversa Lucia, Ceremon...         NaN     True  \n",
       "\n",
       "[1 rows x 30 columns]"
      ]
     },
     "execution_count": 31,
     "metadata": {},
     "output_type": "execute_result"
    }
   ],
   "source": [
    "image = images_in_data[0]\n",
    "image_data = data[data['filename']==image]\n",
    "image_index = image_data.index[0]\n",
    "image_column = image_data[column][image_index]\n",
    "image_cat = name_to_cat[image_column]\n",
    "\n",
    "top_prob, top_class = predict(images_path+\"/\"+image,model,1,False)\n",
    "print(top_prob, top_class)\n",
    "print(image_cat)\n",
    "print(top_class[0] == image_cat)\n",
    "print_predictions(top_prob, top_class,images_path+\"/../cat_to_name.json\")\n",
    "data[data['filename']==image]"
   ]
  },
  {
   "cell_type": "code",
   "execution_count": 34,
   "metadata": {},
   "outputs": [
    {
     "data": {
      "text/plain": [
       "0.7834757834757835"
      ]
     },
     "execution_count": 34,
     "metadata": {},
     "output_type": "execute_result"
    }
   ],
   "source": [
    "275/len(images_in_data)"
   ]
  },
  {
   "cell_type": "code",
   "execution_count": 39,
   "metadata": {},
   "outputs": [
    {
     "name": "stdout",
     "output_type": "stream",
     "text": [
      "4.6\n"
     ]
    }
   ],
   "source": [
    "precision = 0\n",
    "for i in range(1000):\n",
    "    top_prob, top_cat = predict(images_path+\"/\"+image,model,1,False)\n",
    "    precision += int(top_cat[0])\n",
    "print(precision/100)"
   ]
  },
  {
   "cell_type": "code",
   "execution_count": null,
   "metadata": {},
   "outputs": [],
   "source": []
  }
 ],
 "metadata": {
  "kernelspec": {
   "display_name": "Python 3",
   "language": "python",
   "name": "python3"
  },
  "language_info": {
   "codemirror_mode": {
    "name": "ipython",
    "version": 3
   },
   "file_extension": ".py",
   "mimetype": "text/x-python",
   "name": "python",
   "nbconvert_exporter": "python",
   "pygments_lexer": "ipython3",
   "version": "3.6.9"
  }
 },
 "nbformat": 4,
 "nbformat_minor": 4
}
